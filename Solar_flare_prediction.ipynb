{
  "nbformat": 4,
  "nbformat_minor": 0,
  "metadata": {
    "colab": {
      "name": "Solar flare prediction.ipynb",
      "provenance": [],
      "collapsed_sections": []
    },
    "kernelspec": {
      "display_name": "Python 3",
      "name": "python3"
    }
  },
  "cells": [
    {
      "cell_type": "markdown",
      "metadata": {
        "id": "2SyBS-VNI2yu"
      },
      "source": [
        "#### Import the necessary libraries"
      ]
    },
    {
      "cell_type": "code",
      "metadata": {
        "id": "LzhttI4CI6mV"
      },
      "source": [
        "import pandas as pd\n",
        "import matplotlib.pyplot as plt\n",
        "import plotly.graph_objects as go\n",
        "%matplotlib inline\n",
        "import seaborn as sns\n",
        "import re\n",
        "from sklearn import preprocessing\n",
        "from sklearn.model_selection import train_test_split\n",
        "\n",
        "# importing the models\n",
        "\n",
        "from sklearn.linear_model import LogisticRegression\n",
        "from sklearn.neighbors import KNeighborsClassifier\n",
        "from sklearn.tree import DecisionTreeClassifier\n",
        "from sklearn.svm import SVC\n",
        "from sklearn.ensemble import RandomForestClassifier, AdaBoostClassifier, GradientBoostingClassifier\n",
        "\n",
        "# importing performance measure functions\n",
        "\n",
        "from sklearn.metrics import confusion_matrix, f1_score, precision_score, recall_score, classification_report"
      ],
      "execution_count": null,
      "outputs": []
    },
    {
      "cell_type": "markdown",
      "metadata": {
        "id": "-bLRIwSgJLeA"
      },
      "source": [
        "#### Load the dataset"
      ]
    },
    {
      "cell_type": "code",
      "metadata": {
        "id": "SN9_xxYOJAn0"
      },
      "source": [
        "df_train = pd.read_csv(\"/content/drive/My Drive/Colab Notebooks/SEM 3 project Solarflare/multilabel solar flare/M_training.csv\")\n",
        "df_test = pd.read_csv(\"/content/drive/My Drive/Colab Notebooks/SEM 3 project Solarflare/multilabel solar flare/M_testing.csv\")"
      ],
      "execution_count": null,
      "outputs": []
    },
    {
      "cell_type": "code",
      "metadata": {
        "id": "Lna0zZzuJquZ",
        "colab": {
          "base_uri": "https://localhost:8080/"
        },
        "outputId": "7ab29a8f-8c6e-43f4-d773-8ce1c0f52106"
      },
      "source": [
        "print(df_train.shape)\n",
        "print(df_test.shape)"
      ],
      "execution_count": null,
      "outputs": [
        {
          "output_type": "stream",
          "text": [
            "(127709, 27)\n",
            "(212, 27)\n"
          ],
          "name": "stdout"
        }
      ]
    },
    {
      "cell_type": "code",
      "metadata": {
        "id": "lsxswInuJ--o",
        "colab": {
          "base_uri": "https://localhost:8080/"
        },
        "outputId": "07ca7e4e-e6bb-4576-c497-e5e8bb1d58e4"
      },
      "source": [
        "df_train.columns.values"
      ],
      "execution_count": null,
      "outputs": [
        {
          "output_type": "execute_result",
          "data": {
            "text/plain": [
              "array(['label', 'flare', 'timestamp', 'NOAA', 'HARP', 'TOTUSJH',\n",
              "       'TOTUSJZ', 'TOTPOT', 'TOTBSQ', 'USFLUX', 'Cdec', 'Chis1d', 'Chis',\n",
              "       'AREA_ACR', 'SAVNCPP', 'ABSNJZH', 'Edec', 'Xmax1d', 'Mhis',\n",
              "       'R_VALUE', 'Mdec', 'MEANPOT', 'Mhis1d', 'TOTFX', 'TOTFZ',\n",
              "       'MEANSHR', 'SHRGT45'], dtype=object)"
            ]
          },
          "metadata": {
            "tags": []
          },
          "execution_count": 4
        }
      ]
    },
    {
      "cell_type": "markdown",
      "metadata": {
        "id": "Zfvxhi--KFc6"
      },
      "source": [
        "These 13 are SDO/HMI magnetic parameters. Their values of the AR samples are extracted from HMI SHARP related data products. The meaning of each parameter is as follows:\n",
        "1) total unsigned current helicity (TOTUSJH).\n",
        "2) total magnitude of Lorentz force (TOTBSQ).\n",
        "3) total photospheric magnetic free energy density (TOTPOT).\n",
        "4) total unsigned vertical current (TOTUSJZ).\n",
        "5) absolute value of the net current helicity (ABSNJZH).\n",
        "6) sum of the modulus of the net current per polarity (SAVNCPP).\n",
        "7) total unsigned flux (USFLUX).\n",
        "8) area of strong field pixels in the active region (AREA_ACR).\n",
        "9) sum of z-component of Lorentz force (TOTFZ).\n",
        "10) mean photospheric magnetic free energy (MEANPOT).\n",
        "11) sum of flux near polarity inversion line (R_VALUE).\n",
        "12) sum of z-component of normalized Lorentz force (EPSZ).\n",
        "13) fraction of area with shear > 45◦ (SHRGT45)."
      ]
    },
    {
      "cell_type": "code",
      "metadata": {
        "id": "COLeSAgMKBiN",
        "colab": {
          "base_uri": "https://localhost:8080/",
          "height": 1000
        },
        "outputId": "9ebccba2-9908-4e14-b5aa-38298ffd016e"
      },
      "source": [
        "display(df_train.info())\n",
        "display(df_test.info())"
      ],
      "execution_count": null,
      "outputs": [
        {
          "output_type": "stream",
          "text": [
            "<class 'pandas.core.frame.DataFrame'>\n",
            "RangeIndex: 127709 entries, 0 to 127708\n",
            "Data columns (total 27 columns):\n",
            " #   Column     Non-Null Count   Dtype  \n",
            "---  ------     --------------   -----  \n",
            " 0   label      127709 non-null  object \n",
            " 1   flare      127709 non-null  object \n",
            " 2   timestamp  127709 non-null  object \n",
            " 3   NOAA       127709 non-null  int64  \n",
            " 4   HARP       127709 non-null  int64  \n",
            " 5   TOTUSJH    127709 non-null  float64\n",
            " 6   TOTUSJZ    127709 non-null  float64\n",
            " 7   TOTPOT     127709 non-null  float64\n",
            " 8   TOTBSQ     127709 non-null  float64\n",
            " 9   USFLUX     127709 non-null  float64\n",
            " 10  Cdec       127709 non-null  float64\n",
            " 11  Chis1d     127709 non-null  float64\n",
            " 12  Chis       127709 non-null  float64\n",
            " 13  AREA_ACR   127709 non-null  float64\n",
            " 14  SAVNCPP    127709 non-null  float64\n",
            " 15  ABSNJZH    127709 non-null  float64\n",
            " 16  Edec       127709 non-null  float64\n",
            " 17  Xmax1d     127709 non-null  float64\n",
            " 18  Mhis       127709 non-null  float64\n",
            " 19  R_VALUE    127709 non-null  float64\n",
            " 20  Mdec       127709 non-null  float64\n",
            " 21  MEANPOT    127709 non-null  float64\n",
            " 22  Mhis1d     127709 non-null  float64\n",
            " 23  TOTFX      127709 non-null  float64\n",
            " 24  TOTFZ      127709 non-null  float64\n",
            " 25  MEANSHR    127709 non-null  float64\n",
            " 26  SHRGT45    127709 non-null  float64\n",
            "dtypes: float64(22), int64(2), object(3)\n",
            "memory usage: 26.3+ MB\n"
          ],
          "name": "stdout"
        },
        {
          "output_type": "display_data",
          "data": {
            "text/plain": [
              "None"
            ]
          },
          "metadata": {
            "tags": []
          }
        },
        {
          "output_type": "stream",
          "text": [
            "<class 'pandas.core.frame.DataFrame'>\n",
            "RangeIndex: 212 entries, 0 to 211\n",
            "Data columns (total 27 columns):\n",
            " #   Column     Non-Null Count  Dtype  \n",
            "---  ------     --------------  -----  \n",
            " 0   Label      212 non-null    object \n",
            " 1   flare      212 non-null    object \n",
            " 2   timestamp  212 non-null    object \n",
            " 3   NOAA       212 non-null    int64  \n",
            " 4   HARP       212 non-null    int64  \n",
            " 5   TOTUSJH    212 non-null    float64\n",
            " 6   TOTUSJZ    212 non-null    float64\n",
            " 7   TOTPOT     212 non-null    float64\n",
            " 8   TOTBSQ     212 non-null    float64\n",
            " 9   USFLUX     212 non-null    float64\n",
            " 10  Cdec       212 non-null    float64\n",
            " 11  Chis1d     212 non-null    float64\n",
            " 12  Chis       212 non-null    float64\n",
            " 13  AREA_ACR   212 non-null    float64\n",
            " 14  SAVNCPP    212 non-null    float64\n",
            " 15  ABSNJZH    212 non-null    float64\n",
            " 16  Edec       212 non-null    float64\n",
            " 17  Xmax1d     212 non-null    float64\n",
            " 18  Mhis       212 non-null    float64\n",
            " 19  R_VALUE    212 non-null    float64\n",
            " 20  Mdec       212 non-null    float64\n",
            " 21  MEANPOT    212 non-null    float64\n",
            " 22  Mhis1d     212 non-null    float64\n",
            " 23  TOTFX      212 non-null    float64\n",
            " 24  TOTFZ      212 non-null    float64\n",
            " 25  MEANSHR    212 non-null    float64\n",
            " 26  SHRGT45    212 non-null    float64\n",
            "dtypes: float64(22), int64(2), object(3)\n",
            "memory usage: 44.8+ KB\n"
          ],
          "name": "stdout"
        },
        {
          "output_type": "display_data",
          "data": {
            "text/plain": [
              "None"
            ]
          },
          "metadata": {
            "tags": []
          }
        }
      ]
    },
    {
      "cell_type": "markdown",
      "metadata": {
        "id": "YVFPofhDKNqb"
      },
      "source": [
        "#### Defining a function for cleaning the flare class"
      ]
    },
    {
      "cell_type": "code",
      "metadata": {
        "id": "Z6X44QuXKJOA"
      },
      "source": [
        "def clean_target(lst): \n",
        "    patt = '[0.0-9.9]'\n",
        "    lst = [re.sub(patt, '', i) for i in lst] \n",
        "    return lst"
      ],
      "execution_count": null,
      "outputs": []
    },
    {
      "cell_type": "code",
      "metadata": {
        "id": "70LzuzKQKQsa"
      },
      "source": [
        "df_train['flare'] = pd.DataFrame(clean_target(list(df_train[\"flare\"])))\n",
        "df_test['flare'] = pd.DataFrame(clean_target(list(df_test[\"flare\"])))"
      ],
      "execution_count": null,
      "outputs": []
    },
    {
      "cell_type": "code",
      "metadata": {
        "id": "GJbSh1OSKS21",
        "colab": {
          "base_uri": "https://localhost:8080/",
          "height": 598
        },
        "outputId": "88b5f8e6-4cc0-4d05-a79e-c4806a17cf19"
      },
      "source": [
        "df = pd.concat([df_train, df_test])\n",
        "print(df.shape)\n",
        "display(df.head())\n",
        "display(df.tail())"
      ],
      "execution_count": null,
      "outputs": [
        {
          "output_type": "stream",
          "text": [
            "(127921, 28)\n"
          ],
          "name": "stdout"
        },
        {
          "output_type": "display_data",
          "data": {
            "text/html": [
              "<div>\n",
              "<style scoped>\n",
              "    .dataframe tbody tr th:only-of-type {\n",
              "        vertical-align: middle;\n",
              "    }\n",
              "\n",
              "    .dataframe tbody tr th {\n",
              "        vertical-align: top;\n",
              "    }\n",
              "\n",
              "    .dataframe thead th {\n",
              "        text-align: right;\n",
              "    }\n",
              "</style>\n",
              "<table border=\"1\" class=\"dataframe\">\n",
              "  <thead>\n",
              "    <tr style=\"text-align: right;\">\n",
              "      <th></th>\n",
              "      <th>label</th>\n",
              "      <th>flare</th>\n",
              "      <th>timestamp</th>\n",
              "      <th>NOAA</th>\n",
              "      <th>HARP</th>\n",
              "      <th>TOTUSJH</th>\n",
              "      <th>TOTUSJZ</th>\n",
              "      <th>TOTPOT</th>\n",
              "      <th>TOTBSQ</th>\n",
              "      <th>USFLUX</th>\n",
              "      <th>Cdec</th>\n",
              "      <th>Chis1d</th>\n",
              "      <th>Chis</th>\n",
              "      <th>AREA_ACR</th>\n",
              "      <th>SAVNCPP</th>\n",
              "      <th>ABSNJZH</th>\n",
              "      <th>Edec</th>\n",
              "      <th>Xmax1d</th>\n",
              "      <th>Mhis</th>\n",
              "      <th>R_VALUE</th>\n",
              "      <th>Mdec</th>\n",
              "      <th>MEANPOT</th>\n",
              "      <th>Mhis1d</th>\n",
              "      <th>TOTFX</th>\n",
              "      <th>TOTFZ</th>\n",
              "      <th>MEANSHR</th>\n",
              "      <th>SHRGT45</th>\n",
              "      <th>Label</th>\n",
              "    </tr>\n",
              "  </thead>\n",
              "  <tbody>\n",
              "    <tr>\n",
              "      <th>0</th>\n",
              "      <td>Negative</td>\n",
              "      <td>N</td>\n",
              "      <td>2010-05-03T05:34:22.60Z</td>\n",
              "      <td>11063</td>\n",
              "      <td>11</td>\n",
              "      <td>-0.567834</td>\n",
              "      <td>-0.125322</td>\n",
              "      <td>-0.578627</td>\n",
              "      <td>-0.439248</td>\n",
              "      <td>-0.712481</td>\n",
              "      <td>0.0</td>\n",
              "      <td>0.0</td>\n",
              "      <td>0.0</td>\n",
              "      <td>0.151492</td>\n",
              "      <td>-0.647307</td>\n",
              "      <td>-0.137107</td>\n",
              "      <td>0.0</td>\n",
              "      <td>0.0</td>\n",
              "      <td>0.0</td>\n",
              "      <td>1.355732</td>\n",
              "      <td>0.0</td>\n",
              "      <td>0.499024</td>\n",
              "      <td>0.0</td>\n",
              "      <td>-0.152851</td>\n",
              "      <td>0.585152</td>\n",
              "      <td>3.445284</td>\n",
              "      <td>1.203833</td>\n",
              "      <td>NaN</td>\n",
              "    </tr>\n",
              "    <tr>\n",
              "      <th>1</th>\n",
              "      <td>Negative</td>\n",
              "      <td>N</td>\n",
              "      <td>2010-05-03T06:34:22.60Z</td>\n",
              "      <td>11063</td>\n",
              "      <td>11</td>\n",
              "      <td>-0.571116</td>\n",
              "      <td>-0.195688</td>\n",
              "      <td>-0.593589</td>\n",
              "      <td>-0.444436</td>\n",
              "      <td>-0.714876</td>\n",
              "      <td>0.0</td>\n",
              "      <td>0.0</td>\n",
              "      <td>0.0</td>\n",
              "      <td>0.069468</td>\n",
              "      <td>-0.634164</td>\n",
              "      <td>-0.281029</td>\n",
              "      <td>0.0</td>\n",
              "      <td>0.0</td>\n",
              "      <td>0.0</td>\n",
              "      <td>0.703247</td>\n",
              "      <td>0.0</td>\n",
              "      <td>0.615338</td>\n",
              "      <td>0.0</td>\n",
              "      <td>-0.159401</td>\n",
              "      <td>0.524963</td>\n",
              "      <td>2.794116</td>\n",
              "      <td>0.692479</td>\n",
              "      <td>NaN</td>\n",
              "    </tr>\n",
              "    <tr>\n",
              "      <th>2</th>\n",
              "      <td>Negative</td>\n",
              "      <td>N</td>\n",
              "      <td>2010-05-03T07:34:22.60Z</td>\n",
              "      <td>11063</td>\n",
              "      <td>11</td>\n",
              "      <td>-0.559336</td>\n",
              "      <td>-0.160199</td>\n",
              "      <td>-0.591041</td>\n",
              "      <td>-0.450255</td>\n",
              "      <td>-0.714202</td>\n",
              "      <td>0.0</td>\n",
              "      <td>0.0</td>\n",
              "      <td>0.0</td>\n",
              "      <td>-0.059053</td>\n",
              "      <td>-0.628663</td>\n",
              "      <td>-0.210854</td>\n",
              "      <td>0.0</td>\n",
              "      <td>0.0</td>\n",
              "      <td>0.0</td>\n",
              "      <td>0.239942</td>\n",
              "      <td>0.0</td>\n",
              "      <td>0.443774</td>\n",
              "      <td>0.0</td>\n",
              "      <td>-0.154346</td>\n",
              "      <td>0.511524</td>\n",
              "      <td>3.236783</td>\n",
              "      <td>0.343284</td>\n",
              "      <td>NaN</td>\n",
              "    </tr>\n",
              "    <tr>\n",
              "      <th>3</th>\n",
              "      <td>Negative</td>\n",
              "      <td>N</td>\n",
              "      <td>2010-05-03T08:34:22.60Z</td>\n",
              "      <td>11063</td>\n",
              "      <td>11</td>\n",
              "      <td>-0.584086</td>\n",
              "      <td>-0.256048</td>\n",
              "      <td>-0.633434</td>\n",
              "      <td>-0.454481</td>\n",
              "      <td>-0.713703</td>\n",
              "      <td>0.0</td>\n",
              "      <td>0.0</td>\n",
              "      <td>0.0</td>\n",
              "      <td>0.006143</td>\n",
              "      <td>-0.632696</td>\n",
              "      <td>-0.366913</td>\n",
              "      <td>0.0</td>\n",
              "      <td>0.0</td>\n",
              "      <td>0.0</td>\n",
              "      <td>-0.059887</td>\n",
              "      <td>0.0</td>\n",
              "      <td>0.443193</td>\n",
              "      <td>0.0</td>\n",
              "      <td>-0.147237</td>\n",
              "      <td>0.505874</td>\n",
              "      <td>2.527372</td>\n",
              "      <td>0.223327</td>\n",
              "      <td>NaN</td>\n",
              "    </tr>\n",
              "    <tr>\n",
              "      <th>4</th>\n",
              "      <td>Negative</td>\n",
              "      <td>N</td>\n",
              "      <td>2010-05-03T09:34:22.60Z</td>\n",
              "      <td>11063</td>\n",
              "      <td>11</td>\n",
              "      <td>-0.574319</td>\n",
              "      <td>-0.275039</td>\n",
              "      <td>-0.626764</td>\n",
              "      <td>-0.452321</td>\n",
              "      <td>-0.710402</td>\n",
              "      <td>0.0</td>\n",
              "      <td>0.0</td>\n",
              "      <td>0.0</td>\n",
              "      <td>0.068967</td>\n",
              "      <td>-0.630944</td>\n",
              "      <td>-0.436362</td>\n",
              "      <td>0.0</td>\n",
              "      <td>0.0</td>\n",
              "      <td>0.0</td>\n",
              "      <td>-0.186871</td>\n",
              "      <td>0.0</td>\n",
              "      <td>0.493789</td>\n",
              "      <td>0.0</td>\n",
              "      <td>-0.148516</td>\n",
              "      <td>0.516957</td>\n",
              "      <td>2.274006</td>\n",
              "      <td>0.123323</td>\n",
              "      <td>NaN</td>\n",
              "    </tr>\n",
              "  </tbody>\n",
              "</table>\n",
              "</div>"
            ],
            "text/plain": [
              "      label flare                timestamp  ...   MEANSHR   SHRGT45  Label\n",
              "0  Negative     N  2010-05-03T05:34:22.60Z  ...  3.445284  1.203833    NaN\n",
              "1  Negative     N  2010-05-03T06:34:22.60Z  ...  2.794116  0.692479    NaN\n",
              "2  Negative     N  2010-05-03T07:34:22.60Z  ...  3.236783  0.343284    NaN\n",
              "3  Negative     N  2010-05-03T08:34:22.60Z  ...  2.527372  0.223327    NaN\n",
              "4  Negative     N  2010-05-03T09:34:22.60Z  ...  2.274006  0.123323    NaN\n",
              "\n",
              "[5 rows x 28 columns]"
            ]
          },
          "metadata": {
            "tags": []
          }
        },
        {
          "output_type": "display_data",
          "data": {
            "text/html": [
              "<div>\n",
              "<style scoped>\n",
              "    .dataframe tbody tr th:only-of-type {\n",
              "        vertical-align: middle;\n",
              "    }\n",
              "\n",
              "    .dataframe tbody tr th {\n",
              "        vertical-align: top;\n",
              "    }\n",
              "\n",
              "    .dataframe thead th {\n",
              "        text-align: right;\n",
              "    }\n",
              "</style>\n",
              "<table border=\"1\" class=\"dataframe\">\n",
              "  <thead>\n",
              "    <tr style=\"text-align: right;\">\n",
              "      <th></th>\n",
              "      <th>label</th>\n",
              "      <th>flare</th>\n",
              "      <th>timestamp</th>\n",
              "      <th>NOAA</th>\n",
              "      <th>HARP</th>\n",
              "      <th>TOTUSJH</th>\n",
              "      <th>TOTUSJZ</th>\n",
              "      <th>TOTPOT</th>\n",
              "      <th>TOTBSQ</th>\n",
              "      <th>USFLUX</th>\n",
              "      <th>Cdec</th>\n",
              "      <th>Chis1d</th>\n",
              "      <th>Chis</th>\n",
              "      <th>AREA_ACR</th>\n",
              "      <th>SAVNCPP</th>\n",
              "      <th>ABSNJZH</th>\n",
              "      <th>Edec</th>\n",
              "      <th>Xmax1d</th>\n",
              "      <th>Mhis</th>\n",
              "      <th>R_VALUE</th>\n",
              "      <th>Mdec</th>\n",
              "      <th>MEANPOT</th>\n",
              "      <th>Mhis1d</th>\n",
              "      <th>TOTFX</th>\n",
              "      <th>TOTFZ</th>\n",
              "      <th>MEANSHR</th>\n",
              "      <th>SHRGT45</th>\n",
              "      <th>Label</th>\n",
              "    </tr>\n",
              "  </thead>\n",
              "  <tbody>\n",
              "    <tr>\n",
              "      <th>207</th>\n",
              "      <td>NaN</td>\n",
              "      <td>C</td>\n",
              "      <td>2015-04-13T15:34:18.70Z</td>\n",
              "      <td>12320</td>\n",
              "      <td>5415</td>\n",
              "      <td>0.947701</td>\n",
              "      <td>-0.229454</td>\n",
              "      <td>0.790858</td>\n",
              "      <td>0.109802</td>\n",
              "      <td>0.327207</td>\n",
              "      <td>0.317258</td>\n",
              "      <td>0.333333</td>\n",
              "      <td>0.241379</td>\n",
              "      <td>-0.369016</td>\n",
              "      <td>1.425262</td>\n",
              "      <td>0.890122</td>\n",
              "      <td>0.007516</td>\n",
              "      <td>0.006882</td>\n",
              "      <td>0.038462</td>\n",
              "      <td>-0.572136</td>\n",
              "      <td>0.000007</td>\n",
              "      <td>1.056751</td>\n",
              "      <td>0.0</td>\n",
              "      <td>-2.887877</td>\n",
              "      <td>-4.169643</td>\n",
              "      <td>0.185177</td>\n",
              "      <td>-0.496904</td>\n",
              "      <td>Negative</td>\n",
              "    </tr>\n",
              "    <tr>\n",
              "      <th>208</th>\n",
              "      <td>NaN</td>\n",
              "      <td>C</td>\n",
              "      <td>2015-04-13T16:34:18.70Z</td>\n",
              "      <td>12320</td>\n",
              "      <td>5415</td>\n",
              "      <td>0.945490</td>\n",
              "      <td>-0.256896</td>\n",
              "      <td>0.851387</td>\n",
              "      <td>0.127448</td>\n",
              "      <td>0.342463</td>\n",
              "      <td>0.291891</td>\n",
              "      <td>0.277778</td>\n",
              "      <td>0.241379</td>\n",
              "      <td>-0.406094</td>\n",
              "      <td>1.500688</td>\n",
              "      <td>0.606858</td>\n",
              "      <td>0.006915</td>\n",
              "      <td>0.006882</td>\n",
              "      <td>0.038462</td>\n",
              "      <td>-0.496255</td>\n",
              "      <td>0.000007</td>\n",
              "      <td>1.088738</td>\n",
              "      <td>0.0</td>\n",
              "      <td>-2.748850</td>\n",
              "      <td>-4.176686</td>\n",
              "      <td>0.161366</td>\n",
              "      <td>-0.434339</td>\n",
              "      <td>Negative</td>\n",
              "    </tr>\n",
              "    <tr>\n",
              "      <th>209</th>\n",
              "      <td>NaN</td>\n",
              "      <td>C</td>\n",
              "      <td>2015-04-13T17:34:18.70Z</td>\n",
              "      <td>12320</td>\n",
              "      <td>5415</td>\n",
              "      <td>0.826441</td>\n",
              "      <td>-0.314707</td>\n",
              "      <td>0.766035</td>\n",
              "      <td>0.110474</td>\n",
              "      <td>0.315568</td>\n",
              "      <td>0.268553</td>\n",
              "      <td>0.277778</td>\n",
              "      <td>0.241379</td>\n",
              "      <td>-0.430606</td>\n",
              "      <td>1.494396</td>\n",
              "      <td>0.652832</td>\n",
              "      <td>0.006362</td>\n",
              "      <td>0.006882</td>\n",
              "      <td>0.038462</td>\n",
              "      <td>-0.503343</td>\n",
              "      <td>0.000006</td>\n",
              "      <td>1.088156</td>\n",
              "      <td>0.0</td>\n",
              "      <td>-2.622375</td>\n",
              "      <td>-4.164119</td>\n",
              "      <td>0.130040</td>\n",
              "      <td>-0.451663</td>\n",
              "      <td>Negative</td>\n",
              "    </tr>\n",
              "    <tr>\n",
              "      <th>210</th>\n",
              "      <td>NaN</td>\n",
              "      <td>C</td>\n",
              "      <td>2015-04-13T18:34:18.70Z</td>\n",
              "      <td>12320</td>\n",
              "      <td>5415</td>\n",
              "      <td>0.944913</td>\n",
              "      <td>-0.175675</td>\n",
              "      <td>0.811451</td>\n",
              "      <td>0.161015</td>\n",
              "      <td>0.352947</td>\n",
              "      <td>0.247081</td>\n",
              "      <td>0.277778</td>\n",
              "      <td>0.241379</td>\n",
              "      <td>-0.320290</td>\n",
              "      <td>1.435140</td>\n",
              "      <td>1.110726</td>\n",
              "      <td>0.005853</td>\n",
              "      <td>0.006882</td>\n",
              "      <td>0.038462</td>\n",
              "      <td>-0.487871</td>\n",
              "      <td>0.000006</td>\n",
              "      <td>1.052099</td>\n",
              "      <td>0.0</td>\n",
              "      <td>-2.728068</td>\n",
              "      <td>-4.115928</td>\n",
              "      <td>0.212896</td>\n",
              "      <td>-0.464964</td>\n",
              "      <td>Negative</td>\n",
              "    </tr>\n",
              "    <tr>\n",
              "      <th>211</th>\n",
              "      <td>NaN</td>\n",
              "      <td>C</td>\n",
              "      <td>2015-04-13T19:34:18.80Z</td>\n",
              "      <td>12320</td>\n",
              "      <td>5415</td>\n",
              "      <td>0.959147</td>\n",
              "      <td>-0.067101</td>\n",
              "      <td>0.905028</td>\n",
              "      <td>0.203846</td>\n",
              "      <td>0.334539</td>\n",
              "      <td>0.227325</td>\n",
              "      <td>0.277778</td>\n",
              "      <td>0.241379</td>\n",
              "      <td>-0.298247</td>\n",
              "      <td>1.482046</td>\n",
              "      <td>0.945704</td>\n",
              "      <td>0.005385</td>\n",
              "      <td>0.006882</td>\n",
              "      <td>0.038462</td>\n",
              "      <td>-0.399229</td>\n",
              "      <td>0.000005</td>\n",
              "      <td>1.031744</td>\n",
              "      <td>0.0</td>\n",
              "      <td>-2.730263</td>\n",
              "      <td>-4.032418</td>\n",
              "      <td>0.266442</td>\n",
              "      <td>-0.394846</td>\n",
              "      <td>Negative</td>\n",
              "    </tr>\n",
              "  </tbody>\n",
              "</table>\n",
              "</div>"
            ],
            "text/plain": [
              "    label flare                timestamp  ...   MEANSHR   SHRGT45     Label\n",
              "207   NaN     C  2015-04-13T15:34:18.70Z  ...  0.185177 -0.496904  Negative\n",
              "208   NaN     C  2015-04-13T16:34:18.70Z  ...  0.161366 -0.434339  Negative\n",
              "209   NaN     C  2015-04-13T17:34:18.70Z  ...  0.130040 -0.451663  Negative\n",
              "210   NaN     C  2015-04-13T18:34:18.70Z  ...  0.212896 -0.464964  Negative\n",
              "211   NaN     C  2015-04-13T19:34:18.80Z  ...  0.266442 -0.394846  Negative\n",
              "\n",
              "[5 rows x 28 columns]"
            ]
          },
          "metadata": {
            "tags": []
          }
        }
      ]
    },
    {
      "cell_type": "markdown",
      "metadata": {
        "id": "Mh1-nTBlKctO"
      },
      "source": [
        "####  Rename & drop the unnecessary columns"
      ]
    },
    {
      "cell_type": "code",
      "metadata": {
        "id": "JQqbE_zvKU4T"
      },
      "source": [
        "df = df.rename(columns = {\"flare\": \"target\"})\n",
        "\n",
        "df.drop([\"label\",\"Label\",\"timestamp\", \"NOAA\", \"HARP\",\"Cdec\",\"Chis\",\"Edec\",\"Chis1d\",\"TOTFX\",\"Xmax1d\",\"Mhis\",\"Mdec\",\"Mhis1d\",\"MEANSHR\"],inplace = True, axis = 1)"
      ],
      "execution_count": null,
      "outputs": []
    },
    {
      "cell_type": "code",
      "metadata": {
        "id": "z5Fc_C6cKi8A",
        "colab": {
          "base_uri": "https://localhost:8080/",
          "height": 391
        },
        "outputId": "fd1fbaf8-0043-47ad-e663-123ab1145b1b"
      },
      "source": [
        "display(df.head())\n",
        "display(df.tail())"
      ],
      "execution_count": null,
      "outputs": [
        {
          "output_type": "display_data",
          "data": {
            "text/html": [
              "<div>\n",
              "<style scoped>\n",
              "    .dataframe tbody tr th:only-of-type {\n",
              "        vertical-align: middle;\n",
              "    }\n",
              "\n",
              "    .dataframe tbody tr th {\n",
              "        vertical-align: top;\n",
              "    }\n",
              "\n",
              "    .dataframe thead th {\n",
              "        text-align: right;\n",
              "    }\n",
              "</style>\n",
              "<table border=\"1\" class=\"dataframe\">\n",
              "  <thead>\n",
              "    <tr style=\"text-align: right;\">\n",
              "      <th></th>\n",
              "      <th>target</th>\n",
              "      <th>TOTUSJH</th>\n",
              "      <th>TOTUSJZ</th>\n",
              "      <th>TOTPOT</th>\n",
              "      <th>TOTBSQ</th>\n",
              "      <th>USFLUX</th>\n",
              "      <th>AREA_ACR</th>\n",
              "      <th>SAVNCPP</th>\n",
              "      <th>ABSNJZH</th>\n",
              "      <th>R_VALUE</th>\n",
              "      <th>MEANPOT</th>\n",
              "      <th>TOTFZ</th>\n",
              "      <th>SHRGT45</th>\n",
              "    </tr>\n",
              "  </thead>\n",
              "  <tbody>\n",
              "    <tr>\n",
              "      <th>0</th>\n",
              "      <td>N</td>\n",
              "      <td>-0.567834</td>\n",
              "      <td>-0.125322</td>\n",
              "      <td>-0.578627</td>\n",
              "      <td>-0.439248</td>\n",
              "      <td>-0.712481</td>\n",
              "      <td>0.151492</td>\n",
              "      <td>-0.647307</td>\n",
              "      <td>-0.137107</td>\n",
              "      <td>1.355732</td>\n",
              "      <td>0.499024</td>\n",
              "      <td>0.585152</td>\n",
              "      <td>1.203833</td>\n",
              "    </tr>\n",
              "    <tr>\n",
              "      <th>1</th>\n",
              "      <td>N</td>\n",
              "      <td>-0.571116</td>\n",
              "      <td>-0.195688</td>\n",
              "      <td>-0.593589</td>\n",
              "      <td>-0.444436</td>\n",
              "      <td>-0.714876</td>\n",
              "      <td>0.069468</td>\n",
              "      <td>-0.634164</td>\n",
              "      <td>-0.281029</td>\n",
              "      <td>0.703247</td>\n",
              "      <td>0.615338</td>\n",
              "      <td>0.524963</td>\n",
              "      <td>0.692479</td>\n",
              "    </tr>\n",
              "    <tr>\n",
              "      <th>2</th>\n",
              "      <td>N</td>\n",
              "      <td>-0.559336</td>\n",
              "      <td>-0.160199</td>\n",
              "      <td>-0.591041</td>\n",
              "      <td>-0.450255</td>\n",
              "      <td>-0.714202</td>\n",
              "      <td>-0.059053</td>\n",
              "      <td>-0.628663</td>\n",
              "      <td>-0.210854</td>\n",
              "      <td>0.239942</td>\n",
              "      <td>0.443774</td>\n",
              "      <td>0.511524</td>\n",
              "      <td>0.343284</td>\n",
              "    </tr>\n",
              "    <tr>\n",
              "      <th>3</th>\n",
              "      <td>N</td>\n",
              "      <td>-0.584086</td>\n",
              "      <td>-0.256048</td>\n",
              "      <td>-0.633434</td>\n",
              "      <td>-0.454481</td>\n",
              "      <td>-0.713703</td>\n",
              "      <td>0.006143</td>\n",
              "      <td>-0.632696</td>\n",
              "      <td>-0.366913</td>\n",
              "      <td>-0.059887</td>\n",
              "      <td>0.443193</td>\n",
              "      <td>0.505874</td>\n",
              "      <td>0.223327</td>\n",
              "    </tr>\n",
              "    <tr>\n",
              "      <th>4</th>\n",
              "      <td>N</td>\n",
              "      <td>-0.574319</td>\n",
              "      <td>-0.275039</td>\n",
              "      <td>-0.626764</td>\n",
              "      <td>-0.452321</td>\n",
              "      <td>-0.710402</td>\n",
              "      <td>0.068967</td>\n",
              "      <td>-0.630944</td>\n",
              "      <td>-0.436362</td>\n",
              "      <td>-0.186871</td>\n",
              "      <td>0.493789</td>\n",
              "      <td>0.516957</td>\n",
              "      <td>0.123323</td>\n",
              "    </tr>\n",
              "  </tbody>\n",
              "</table>\n",
              "</div>"
            ],
            "text/plain": [
              "  target   TOTUSJH   TOTUSJZ    TOTPOT  ...   R_VALUE   MEANPOT     TOTFZ   SHRGT45\n",
              "0      N -0.567834 -0.125322 -0.578627  ...  1.355732  0.499024  0.585152  1.203833\n",
              "1      N -0.571116 -0.195688 -0.593589  ...  0.703247  0.615338  0.524963  0.692479\n",
              "2      N -0.559336 -0.160199 -0.591041  ...  0.239942  0.443774  0.511524  0.343284\n",
              "3      N -0.584086 -0.256048 -0.633434  ... -0.059887  0.443193  0.505874  0.223327\n",
              "4      N -0.574319 -0.275039 -0.626764  ... -0.186871  0.493789  0.516957  0.123323\n",
              "\n",
              "[5 rows x 13 columns]"
            ]
          },
          "metadata": {
            "tags": []
          }
        },
        {
          "output_type": "display_data",
          "data": {
            "text/html": [
              "<div>\n",
              "<style scoped>\n",
              "    .dataframe tbody tr th:only-of-type {\n",
              "        vertical-align: middle;\n",
              "    }\n",
              "\n",
              "    .dataframe tbody tr th {\n",
              "        vertical-align: top;\n",
              "    }\n",
              "\n",
              "    .dataframe thead th {\n",
              "        text-align: right;\n",
              "    }\n",
              "</style>\n",
              "<table border=\"1\" class=\"dataframe\">\n",
              "  <thead>\n",
              "    <tr style=\"text-align: right;\">\n",
              "      <th></th>\n",
              "      <th>target</th>\n",
              "      <th>TOTUSJH</th>\n",
              "      <th>TOTUSJZ</th>\n",
              "      <th>TOTPOT</th>\n",
              "      <th>TOTBSQ</th>\n",
              "      <th>USFLUX</th>\n",
              "      <th>AREA_ACR</th>\n",
              "      <th>SAVNCPP</th>\n",
              "      <th>ABSNJZH</th>\n",
              "      <th>R_VALUE</th>\n",
              "      <th>MEANPOT</th>\n",
              "      <th>TOTFZ</th>\n",
              "      <th>SHRGT45</th>\n",
              "    </tr>\n",
              "  </thead>\n",
              "  <tbody>\n",
              "    <tr>\n",
              "      <th>207</th>\n",
              "      <td>C</td>\n",
              "      <td>0.947701</td>\n",
              "      <td>-0.229454</td>\n",
              "      <td>0.790858</td>\n",
              "      <td>0.109802</td>\n",
              "      <td>0.327207</td>\n",
              "      <td>-0.369016</td>\n",
              "      <td>1.425262</td>\n",
              "      <td>0.890122</td>\n",
              "      <td>-0.572136</td>\n",
              "      <td>1.056751</td>\n",
              "      <td>-4.169643</td>\n",
              "      <td>-0.496904</td>\n",
              "    </tr>\n",
              "    <tr>\n",
              "      <th>208</th>\n",
              "      <td>C</td>\n",
              "      <td>0.945490</td>\n",
              "      <td>-0.256896</td>\n",
              "      <td>0.851387</td>\n",
              "      <td>0.127448</td>\n",
              "      <td>0.342463</td>\n",
              "      <td>-0.406094</td>\n",
              "      <td>1.500688</td>\n",
              "      <td>0.606858</td>\n",
              "      <td>-0.496255</td>\n",
              "      <td>1.088738</td>\n",
              "      <td>-4.176686</td>\n",
              "      <td>-0.434339</td>\n",
              "    </tr>\n",
              "    <tr>\n",
              "      <th>209</th>\n",
              "      <td>C</td>\n",
              "      <td>0.826441</td>\n",
              "      <td>-0.314707</td>\n",
              "      <td>0.766035</td>\n",
              "      <td>0.110474</td>\n",
              "      <td>0.315568</td>\n",
              "      <td>-0.430606</td>\n",
              "      <td>1.494396</td>\n",
              "      <td>0.652832</td>\n",
              "      <td>-0.503343</td>\n",
              "      <td>1.088156</td>\n",
              "      <td>-4.164119</td>\n",
              "      <td>-0.451663</td>\n",
              "    </tr>\n",
              "    <tr>\n",
              "      <th>210</th>\n",
              "      <td>C</td>\n",
              "      <td>0.944913</td>\n",
              "      <td>-0.175675</td>\n",
              "      <td>0.811451</td>\n",
              "      <td>0.161015</td>\n",
              "      <td>0.352947</td>\n",
              "      <td>-0.320290</td>\n",
              "      <td>1.435140</td>\n",
              "      <td>1.110726</td>\n",
              "      <td>-0.487871</td>\n",
              "      <td>1.052099</td>\n",
              "      <td>-4.115928</td>\n",
              "      <td>-0.464964</td>\n",
              "    </tr>\n",
              "    <tr>\n",
              "      <th>211</th>\n",
              "      <td>C</td>\n",
              "      <td>0.959147</td>\n",
              "      <td>-0.067101</td>\n",
              "      <td>0.905028</td>\n",
              "      <td>0.203846</td>\n",
              "      <td>0.334539</td>\n",
              "      <td>-0.298247</td>\n",
              "      <td>1.482046</td>\n",
              "      <td>0.945704</td>\n",
              "      <td>-0.399229</td>\n",
              "      <td>1.031744</td>\n",
              "      <td>-4.032418</td>\n",
              "      <td>-0.394846</td>\n",
              "    </tr>\n",
              "  </tbody>\n",
              "</table>\n",
              "</div>"
            ],
            "text/plain": [
              "    target   TOTUSJH   TOTUSJZ  ...   MEANPOT     TOTFZ   SHRGT45\n",
              "207      C  0.947701 -0.229454  ...  1.056751 -4.169643 -0.496904\n",
              "208      C  0.945490 -0.256896  ...  1.088738 -4.176686 -0.434339\n",
              "209      C  0.826441 -0.314707  ...  1.088156 -4.164119 -0.451663\n",
              "210      C  0.944913 -0.175675  ...  1.052099 -4.115928 -0.464964\n",
              "211      C  0.959147 -0.067101  ...  1.031744 -4.032418 -0.394846\n",
              "\n",
              "[5 rows x 13 columns]"
            ]
          },
          "metadata": {
            "tags": []
          }
        }
      ]
    },
    {
      "cell_type": "code",
      "metadata": {
        "id": "-Hr7x2uYKlL6",
        "colab": {
          "base_uri": "https://localhost:8080/",
          "height": 353
        },
        "outputId": "f227dee3-9e99-4740-9646-588ec53e3159"
      },
      "source": [
        "target = pd.unique(df[\"target\"])\n",
        "print(target)\n",
        "\n",
        "plt.hist(df[\"target\"])"
      ],
      "execution_count": null,
      "outputs": [
        {
          "output_type": "stream",
          "text": [
            "['N' 'B' 'C' 'M' 'X']\n"
          ],
          "name": "stdout"
        },
        {
          "output_type": "execute_result",
          "data": {
            "text/plain": [
              "(array([96046.,     0., 11048.,     0.,     0., 17780.,     0.,  2750.,\n",
              "            0.,   297.]),\n",
              " array([0. , 0.4, 0.8, 1.2, 1.6, 2. , 2.4, 2.8, 3.2, 3.6, 4. ]),\n",
              " <a list of 10 Patch objects>)"
            ]
          },
          "metadata": {
            "tags": []
          },
          "execution_count": 11
        },
        {
          "output_type": "display_data",
          "data": {
            "image/png": "[encoded data removed]",
            "text/plain": [
              "<Figure size 432x288 with 1 Axes>"
            ]
          },
          "metadata": {
            "tags": [],
            "needs_background": "light"
          }
        }
      ]
    },
    {
      "cell_type": "code",
      "metadata": {
        "id": "tXHTgpj_KnlQ",
        "colab": {
          "base_uri": "https://localhost:8080/",
          "height": 606
        },
        "outputId": "0ab993af-d2e5-4927-827a-1907f59be607"
      },
      "source": [
        "fig, ax = plt.subplots(figsize=(10,10))\n",
        "sns.heatmap(df.corr(), annot = True, square=True, ax = ax).set_title('Correlation heatmap between the features')"
      ],
      "execution_count": null,
      "outputs": [
        {
          "output_type": "execute_result",
          "data": {
            "text/plain": [
              "Text(0.5, 1.0, 'Correlation heatmap between the features')"
            ]
          },
          "metadata": {
            "tags": []
          },
          "execution_count": 12
        },
        {
          "output_type": "display_data",
          "data": {
            "image/png": "[encoded data removed]",
            "text/plain": [
              "<Figure size 720x720 with 2 Axes>"
            ]
          },
          "metadata": {
            "tags": [],
            "needs_background": "light"
          }
        }
      ]
    },
    {
      "cell_type": "markdown",
      "metadata": {
        "id": "cYgyTXbQKvFt"
      },
      "source": [
        "#### Splitting df_train into training & testing as df_test has low data"
      ]
    },
    {
      "cell_type": "code",
      "metadata": {
        "id": "sM0YWSpvKq2a"
      },
      "source": [
        "y = df[\"target\"]\n",
        "df = df.drop([\"target\"], axis = 1)"
      ],
      "execution_count": null,
      "outputs": []
    },
    {
      "cell_type": "code",
      "metadata": {
        "id": "p2GcfL0PKyny",
        "colab": {
          "base_uri": "https://localhost:8080/"
        },
        "outputId": "2d306b97-fa5d-497c-ad24-efc7af97a990"
      },
      "source": [
        "X_train, X_test, y_train, y_test = train_test_split(df,y, stratify = y, test_size = 0.20, random_state = 5)\n",
        "X_train.shape, X_test.shape "
      ],
      "execution_count": null,
      "outputs": [
        {
          "output_type": "execute_result",
          "data": {
            "text/plain": [
              "((102336, 12), (25585, 12))"
            ]
          },
          "metadata": {
            "tags": []
          },
          "execution_count": 14
        }
      ]
    },
    {
      "cell_type": "code",
      "metadata": {
        "id": "jIPahwbXK0zj"
      },
      "source": [
        "scaler = preprocessing.StandardScaler().fit(X_train)\n",
        "X_train_scaled = scaler.transform(X_train)\n",
        "X_test_scaled = scaler.transform(X_test)"
      ],
      "execution_count": null,
      "outputs": []
    },
    {
      "cell_type": "code",
      "metadata": {
        "id": "osyrFz1fK3QB"
      },
      "source": [
        "test_target = list(y_test)"
      ],
      "execution_count": null,
      "outputs": []
    },
    {
      "cell_type": "markdown",
      "metadata": {
        "id": "eRg-dwvCLfWa"
      },
      "source": [
        "## Now we will try some models"
      ]
    },
    {
      "cell_type": "markdown",
      "metadata": {
        "id": "kzblZTpRLjGn"
      },
      "source": [
        "### Logistic regression"
      ]
    },
    {
      "cell_type": "code",
      "metadata": {
        "id": "SgtfKxXKLcUL",
        "colab": {
          "base_uri": "https://localhost:8080/"
        },
        "outputId": "54d8974d-24f7-4b0d-c6db-eb0e29f33c83"
      },
      "source": [
        "logistic_regression = LogisticRegression().fit(X_train_scaled, y_train)\n",
        "logistic_regression_predictions = logistic_regression.predict(X_test_scaled)\n",
        "\n",
        "logistic_regression_score_test = logistic_regression.score(X_test_scaled, y_test)\n",
        "logistic_regression_score_train = logistic_regression.score(X_train_scaled, y_train)\n",
        "\n",
        "logistic_regression_confusion_matrix = confusion_matrix(y_test, logistic_regression_predictions, labels = [\"B\",\"C\",\"M\",\"N\",\"X\"])\n",
        "\n",
        "logistic_regression_recall = recall_score(y_test, logistic_regression_predictions, labels = [\"B\",\"C\",\"M\",\"N\",\"X\"], average=\"weighted\")\n",
        "\n",
        "logistic_regression_f1_score = f1_score(y_test, logistic_regression_predictions, labels = [\"B\",\"C\",\"M\",\"N\",\"X\"], average=\"weighted\")\n",
        "\n",
        "logistic_regression_precision = precision_score(y_test, logistic_regression_predictions, labels = [\"B\",\"C\",\"M\",\"N\",\"X\"], average=\"weighted\")\n",
        "\n",
        "logistic_regression_report = classification_report(y_test, logistic_regression_predictions)\n",
        "\n",
        "print(\"test score: \",logistic_regression_score_test,\"\\n\", \"train score:\", logistic_regression_score_train)\n",
        "print(\"Confusion matrix:\\n\", logistic_regression_confusion_matrix)\n",
        "print(\"f1 score: \", logistic_regression_f1_score)\n",
        "print(\"precision: \", logistic_regression_precision)\n",
        "print(\"Recall\", logistic_regression_recall)\n",
        "print(\"Classification report:\\n\",logistic_regression_report)"
      ],
      "execution_count": null,
      "outputs": [
        {
          "output_type": "stream",
          "text": [
            "/usr/local/lib/python3.6/dist-packages/sklearn/linear_model/_logistic.py:940: ConvergenceWarning:\n",
            "\n",
            "lbfgs failed to converge (status=1):\n",
            "STOP: TOTAL NO. of ITERATIONS REACHED LIMIT.\n",
            "\n",
            "Increase the number of iterations (max_iter) or scale the data as shown in:\n",
            "    https://scikit-learn.org/stable/modules/preprocessing.html\n",
            "Please also refer to the documentation for alternative solver options:\n",
            "    https://scikit-learn.org/stable/modules/linear_model.html#logistic-regression\n",
            "\n",
            "/usr/local/lib/python3.6/dist-packages/sklearn/metrics/_classification.py:1272: UndefinedMetricWarning:\n",
            "\n",
            "Precision is ill-defined and being set to 0.0 in labels with no predicted samples. Use `zero_division` parameter to control this behavior.\n",
            "\n",
            "/usr/local/lib/python3.6/dist-packages/sklearn/metrics/_classification.py:1272: UndefinedMetricWarning:\n",
            "\n",
            "Precision and F-score are ill-defined and being set to 0.0 in labels with no predicted samples. Use `zero_division` parameter to control this behavior.\n",
            "\n"
          ],
          "name": "stderr"
        },
        {
          "output_type": "stream",
          "text": [
            "test score:  0.773031072894274 \n",
            " train score: 0.7729049405878674\n",
            "Confusion matrix:\n",
            " [[    0   100     0  2110     0]\n",
            " [    0  1079    53  2424     0]\n",
            " [    0   337    77   136     0]\n",
            " [    0   582     6 18622     0]\n",
            " [    0    33    21     5     0]]\n",
            "f1 score:  0.7152895976620067\n",
            "precision:  0.6810791240067204\n",
            "Recall 0.773031072894274\n",
            "Classification report:\n",
            "               precision    recall  f1-score   support\n",
            "\n",
            "           B       0.00      0.00      0.00      2210\n",
            "           C       0.51      0.30      0.38      3556\n",
            "           M       0.49      0.14      0.22       550\n",
            "           N       0.80      0.97      0.88     19210\n",
            "           X       0.00      0.00      0.00        59\n",
            "\n",
            "    accuracy                           0.77     25585\n",
            "   macro avg       0.36      0.28      0.29     25585\n",
            "weighted avg       0.68      0.77      0.72     25585\n",
            "\n"
          ],
          "name": "stdout"
        }
      ]
    },
    {
      "cell_type": "markdown",
      "metadata": {
        "id": "_Z6FGqN7Mdpq"
      },
      "source": [
        "### K-Nearest Neighbours"
      ]
    },
    {
      "cell_type": "code",
      "metadata": {
        "id": "m6g4OxnDMS18",
        "colab": {
          "base_uri": "https://localhost:8080/"
        },
        "outputId": "97269abe-364a-4b36-ff3d-0abc4b58303b"
      },
      "source": [
        "kneighbors_classifier = KNeighborsClassifier().fit(X_train_scaled, y_train)\n",
        "kneighbors_predictions = kneighbors_classifier.predict(X_test_scaled)\n",
        "\n",
        "kneighbors_score = kneighbors_classifier.score(X_test_scaled, y_test)\n",
        "kneighbors_score_train = kneighbors_classifier.score(X_train_scaled, y_train)\n",
        "\n",
        "kneighbors_classifier_confusion_matrix = confusion_matrix(y_test, kneighbors_predictions, labels = [\"B\",\"C\",\"M\",\"N\",\"X\"])\n",
        "\n",
        "kneighbors_classifier_recall = recall_score(y_test, kneighbors_predictions, labels = [\"B\",\"C\",\"M\",\"N\",\"X\"], average=\"weighted\")\n",
        "\n",
        "kneighbors_classifier_f1_score = f1_score(y_test, kneighbors_predictions, labels = [\"B\",\"C\",\"M\",\"N\",\"X\"], average=\"weighted\")\n",
        "\n",
        "kneighbors_classifier_precision = precision_score(y_test, kneighbors_predictions, labels = [\"B\",\"C\",\"M\",\"N\",\"X\"], average=\"weighted\")\n",
        "\n",
        "KNN_report = classification_report(y_test, kneighbors_predictions)\n",
        "\n",
        "print(\"test score: \",kneighbors_score,\"\\n\", \"train score:\", kneighbors_score_train)\n",
        "print(\"Confusion matrix:\\n\", kneighbors_classifier_confusion_matrix)\n",
        "print(\"f1 score: \", kneighbors_classifier_f1_score)\n",
        "print(\"precision: \", kneighbors_classifier_precision)\n",
        "print(\"Recall\", kneighbors_classifier_recall)\n",
        "print(\"Classification report:\\n\",KNN_report)"
      ],
      "execution_count": null,
      "outputs": [
        {
          "output_type": "stream",
          "text": [
            "test score:  0.8705882352941177 \n",
            " train score: 0.9032109912445279\n",
            "Confusion matrix:\n",
            " [[ 1330   145     2   733     0]\n",
            " [  120  2784    47   605     0]\n",
            " [    6    59   449    32     4]\n",
            " [  319  1222     9 17660     0]\n",
            " [    0     6     2     0    51]]\n",
            "f1 score:  0.8710206953720079\n",
            "precision:  0.8743809198140293\n",
            "Recall 0.8705882352941177\n",
            "Classification report:\n",
            "               precision    recall  f1-score   support\n",
            "\n",
            "           B       0.75      0.60      0.67      2210\n",
            "           C       0.66      0.78      0.72      3556\n",
            "           M       0.88      0.82      0.85       550\n",
            "           N       0.93      0.92      0.92     19210\n",
            "           X       0.93      0.86      0.89        59\n",
            "\n",
            "    accuracy                           0.87     25585\n",
            "   macro avg       0.83      0.80      0.81     25585\n",
            "weighted avg       0.87      0.87      0.87     25585\n",
            "\n"
          ],
          "name": "stdout"
        }
      ]
    },
    {
      "cell_type": "markdown",
      "metadata": {
        "id": "xK05f_KeMxYk"
      },
      "source": [
        "### Decision tree"
      ]
    },
    {
      "cell_type": "code",
      "metadata": {
        "id": "vYNhZoRqMhYq",
        "colab": {
          "base_uri": "https://localhost:8080/"
        },
        "outputId": "82330938-c98e-4e34-88c4-6869aa4c156f"
      },
      "source": [
        "decision_tree_classifier = DecisionTreeClassifier().fit(X_train_scaled, y_train)\n",
        "decision_tree_predictions = decision_tree_classifier.predict(X_test_scaled)\n",
        "\n",
        "decision_tree_classifier_confusion_matrix = confusion_matrix(y_test, decision_tree_predictions, labels = [\"B\",\"C\",\"M\",\"N\",\"X\"])\n",
        "\n",
        "decision_tree_score = decision_tree_classifier.score(X_test_scaled, y_test)\n",
        "decision_tree_score_train = decision_tree_classifier.score(X_train_scaled, y_train)\n",
        "\n",
        "decision_tree_classifier_recall = recall_score(y_test, decision_tree_predictions, labels = [\"B\",\"C\",\"M\",\"N\",\"X\"], average=\"weighted\")\n",
        "\n",
        "decision_tree_classifier_f1score = f1_score(y_test, decision_tree_predictions, labels = [\"B\",\"C\",\"M\",\"N\",\"X\"], average=\"weighted\")\n",
        "\n",
        "decision_tree_classifier_precision = precision_score(y_test, decision_tree_predictions, labels = [\"B\",\"C\",\"M\",\"N\",\"X\"], average=\"weighted\")\n",
        "\n",
        "decision_tree_report = classification_report(y_test, decision_tree_predictions)\n",
        "\n",
        "print(\"test score: \",decision_tree_score,\"\\n\", \"train score:\", decision_tree_score_train)\n",
        "print(\"Confusion matrix:\\n\", decision_tree_classifier_confusion_matrix)\n",
        "print(\"f1 score: \", decision_tree_classifier_f1score)\n",
        "print(\"precision: \", decision_tree_classifier_precision)\n",
        "print(\"Recall\", decision_tree_classifier_recall)\n",
        "print(\"Classification report:\\n\",decision_tree_report)"
      ],
      "execution_count": null,
      "outputs": [
        {
          "output_type": "stream",
          "text": [
            "test score:  0.8292749658002736 \n",
            " train score: 0.9880100844277674\n",
            "Confusion matrix:\n",
            " [[ 1093   215    10   892     0]\n",
            " [  192  2259    78  1018     9]\n",
            " [   15    68   385    76     6]\n",
            " [  887   838    47 17436     2]\n",
            " [    0     7     3     5    44]]\n",
            "f1 score:  0.8281700628527126\n",
            "precision:  0.827237987534546\n",
            "Recall 0.8292749658002736\n",
            "Classification report:\n",
            "               precision    recall  f1-score   support\n",
            "\n",
            "           B       0.50      0.49      0.50      2210\n",
            "           C       0.67      0.64      0.65      3556\n",
            "           M       0.74      0.70      0.72       550\n",
            "           N       0.90      0.91      0.90     19210\n",
            "           X       0.72      0.75      0.73        59\n",
            "\n",
            "    accuracy                           0.83     25585\n",
            "   macro avg       0.70      0.70      0.70     25585\n",
            "weighted avg       0.83      0.83      0.83     25585\n",
            "\n"
          ],
          "name": "stdout"
        }
      ]
    },
    {
      "cell_type": "markdown",
      "metadata": {
        "id": "5G6CuFTHNXbL"
      },
      "source": [
        "### Random forest Classifier"
      ]
    },
    {
      "cell_type": "code",
      "metadata": {
        "id": "gqbuZPoJM9UN",
        "colab": {
          "base_uri": "https://localhost:8080/"
        },
        "outputId": "15ded00e-48fa-473f-d9c3-220f7eb6d24c"
      },
      "source": [
        "random_forest_classifier = RandomForestClassifier().fit(X_train_scaled, y_train)\n",
        "random_forest_predictions = random_forest_classifier.predict(X_test_scaled)\n",
        "\n",
        "random_forest_classifier_confusion_matrix = confusion_matrix(y_test, random_forest_predictions, labels = [\"B\",\"C\",\"M\",\"N\",\"X\"])\n",
        "\n",
        "random_forest_score = random_forest_classifier.score(X_test_scaled, y_test)\n",
        "random_forest_score_train = random_forest_classifier.score(X_train_scaled, y_train)\n",
        "\n",
        "random_forest_classifier_recall = recall_score(y_test, random_forest_predictions, labels = [\"B\",\"C\",\"M\",\"N\",\"X\"], average=\"weighted\")\n",
        "\n",
        "random_forest_classifier_f1score = f1_score(y_test, random_forest_predictions, labels = [\"B\",\"C\",\"M\",\"N\",\"X\"], average=\"weighted\")\n",
        "\n",
        "random_forest_classifier_precision = precision_score(y_test, random_forest_predictions, labels = [\"B\",\"C\",\"M\",\"N\",\"X\"], average=\"weighted\")\n",
        "\n",
        "random_forest_report = classification_report(y_test, random_forest_predictions)\n",
        "\n",
        "print(\"test score: \",random_forest_score,\"\\n\", \"train score:\", random_forest_score_train)\n",
        "print(\"Confusion matrix:\\n\", random_forest_classifier_confusion_matrix)\n",
        "print(\"f1 score: \", random_forest_classifier_f1score)\n",
        "print(\"precision: \", random_forest_classifier_precision)\n",
        "print(\"Recall\", random_forest_classifier_recall)\n",
        "print(\"Classification report:\\n\",random_forest_report)"
      ],
      "execution_count": null,
      "outputs": [
        {
          "output_type": "stream",
          "text": [
            "test score:  0.8975571623998436 \n",
            " train score: 0.9880100844277674\n",
            "Confusion matrix:\n",
            " [[ 1027    70     1  1112     0]\n",
            " [   37  2469    15  1035     0]\n",
            " [    3    53   445    47     2]\n",
            " [   72   162     3 18973     0]\n",
            " [    0     1     4     4    50]]\n",
            "f1 score:  0.8881541041939315\n",
            "precision:  0.8979803834020356\n",
            "Recall 0.8975571623998436\n",
            "Classification report:\n",
            "               precision    recall  f1-score   support\n",
            "\n",
            "           B       0.90      0.46      0.61      2210\n",
            "           C       0.90      0.69      0.78      3556\n",
            "           M       0.95      0.81      0.87       550\n",
            "           N       0.90      0.99      0.94     19210\n",
            "           X       0.96      0.85      0.90        59\n",
            "\n",
            "    accuracy                           0.90     25585\n",
            "   macro avg       0.92      0.76      0.82     25585\n",
            "weighted avg       0.90      0.90      0.89     25585\n",
            "\n"
          ],
          "name": "stdout"
        }
      ]
    },
    {
      "cell_type": "markdown",
      "metadata": {
        "id": "QDein2-fNuF8"
      },
      "source": [
        "### Adaptive boosting"
      ]
    },
    {
      "cell_type": "code",
      "metadata": {
        "id": "Q6QTdoGHNhgw",
        "colab": {
          "base_uri": "https://localhost:8080/"
        },
        "outputId": "456f6a95-52c5-4240-b159-878acdcc5d76"
      },
      "source": [
        "adaboost_classifier = AdaBoostClassifier().fit(X_train_scaled, y_train)\n",
        "adaboost_classifier_predictions = adaboost_classifier.predict(X_test_scaled)\n",
        "\n",
        "adaboost_classifier_confusion_matrix = confusion_matrix(y_test, adaboost_classifier_predictions, labels = [\"B\",\"C\",\"M\",\"N\",\"X\"])\n",
        "\n",
        "adaboost_classifier_score = adaboost_classifier.score(X_test_scaled, y_test)\n",
        "adaboost_classifier_score_train = adaboost_classifier.score(X_train_scaled, y_train)\n",
        "\n",
        "adaboost_classifier_recall = recall_score(y_test, adaboost_classifier_predictions, labels = [\"B\",\"C\",\"M\",\"N\",\"X\"], average=\"weighted\")\n",
        "\n",
        "adaboost_classifier_f1score = f1_score(y_test, adaboost_classifier_predictions, labels = [\"B\",\"C\",\"M\",\"N\",\"X\"], average=\"weighted\")\n",
        "\n",
        "adaboost_classifier_precision = precision_score(y_test, adaboost_classifier_predictions, labels = [\"B\",\"C\",\"M\",\"N\",\"X\"], average=\"weighted\")\n",
        "\n",
        "adaboost_classifier_report = classification_report(y_test, adaboost_classifier_predictions)\n",
        "\n",
        "print(\"test score: \",adaboost_classifier_score,\"\\n\", \"train score:\", adaboost_classifier_score_train)\n",
        "print(\"Confusion matrix:\\n\", adaboost_classifier_confusion_matrix)\n",
        "print(\"f1 score: \", adaboost_classifier_f1score)\n",
        "print(\"precision: \", adaboost_classifier_precision)\n",
        "print(\"Recall\", adaboost_classifier_recall)\n",
        "\n",
        "print(\"Classification report:\\n\",adaboost_classifier_report)"
      ],
      "execution_count": null,
      "outputs": [
        {
          "output_type": "stream",
          "text": [
            "test score:  0.7464139144029704 \n",
            " train score: 0.750234521575985\n",
            "Confusion matrix:\n",
            " [[  100   246     0  1864     0]\n",
            " [  127  1045    53  2274    57]\n",
            " [   31   295    21   160    43]\n",
            " [  235  1028    19 17928     0]\n",
            " [    0    48     2     6     3]]\n",
            "f1 score:  0.7042187257266067\n",
            "precision:  0.682375110811198\n",
            "Recall 0.7464139144029704\n",
            "Classification report:\n",
            "               precision    recall  f1-score   support\n",
            "\n",
            "           B       0.20      0.05      0.07      2210\n",
            "           C       0.39      0.29      0.34      3556\n",
            "           M       0.22      0.04      0.07       550\n",
            "           N       0.81      0.93      0.87     19210\n",
            "           X       0.03      0.05      0.04        59\n",
            "\n",
            "    accuracy                           0.75     25585\n",
            "   macro avg       0.33      0.27      0.28     25585\n",
            "weighted avg       0.68      0.75      0.70     25585\n",
            "\n"
          ],
          "name": "stdout"
        }
      ]
    },
    {
      "cell_type": "markdown",
      "metadata": {
        "id": "BMKgQuoZN9eK"
      },
      "source": [
        "#### Gradient Boosting"
      ]
    },
    {
      "cell_type": "code",
      "metadata": {
        "id": "VvoFEG_zOBfE",
        "colab": {
          "base_uri": "https://localhost:8080/"
        },
        "outputId": "51c98d51-5ad5-4cee-9a85-96a66b44482a"
      },
      "source": [
        "gradient_boost_classifier = GradientBoostingClassifier().fit(X_train_scaled, y_train)\n",
        "gradient_boost_classifier_predictions = gradient_boost_classifier.predict(X_test_scaled)\n",
        "\n",
        "gradient_boost_classifier_confusion_matrix = confusion_matrix(y_test, gradient_boost_classifier_predictions, labels = [\"B\",\"C\",\"M\",\"N\",\"X\"])\n",
        "\n",
        "gradient_boost_classifier_score = gradient_boost_classifier.score(X_test_scaled, y_test)\n",
        "gradient_boost_classifier_score_train = gradient_boost_classifier.score(X_train_scaled, y_train)\n",
        "\n",
        "gradient_boost_classifier_recall = recall_score(y_test, gradient_boost_classifier_predictions, labels = [\"B\",\"C\",\"M\",\"N\",\"X\"], average=\"weighted\")\n",
        "\n",
        "gradient_boost_classifier_f1score = f1_score(y_test, gradient_boost_classifier_predictions, labels = [\"B\",\"C\",\"M\",\"N\",\"X\"], average=\"weighted\")\n",
        "\n",
        "gradient_boost_classifier_precision = precision_score(y_test, gradient_boost_classifier_predictions, labels = [\"B\",\"C\",\"M\",\"N\",\"X\"], average=\"weighted\")\n",
        "\n",
        "gradient_boost_report = classification_report(y_test, gradient_boost_classifier_predictions)\n",
        "\n",
        "print(\"test score: \",gradient_boost_classifier_score,\"\\n\", \"train score:\", gradient_boost_classifier_score_train)\n",
        "print(\"Confusion matrix:\\n\", gradient_boost_classifier_confusion_matrix)\n",
        "print(\"f1 score: \", gradient_boost_classifier_f1score)\n",
        "print(\"precision: \", gradient_boost_classifier_precision)\n",
        "print(\"Recall\", gradient_boost_classifier_recall)\n",
        "print(\"Classification report:\\n\",gradient_boost_report)"
      ],
      "execution_count": null,
      "outputs": [
        {
          "output_type": "stream",
          "text": [
            "test score:  0.7926519444987298 \n",
            " train score: 0.7991909005628518\n",
            "Confusion matrix:\n",
            " [[   36   122     1  2051     0]\n",
            " [    9  1282    43  2221     1]\n",
            " [    0   254   165   129     2]\n",
            " [    3   415    13 18778     1]\n",
            " [    0    29     7     4    19]]\n",
            "f1 score:  0.7410752244112693\n",
            "precision:  0.7751113768828299\n",
            "Recall 0.7926519444987298\n",
            "Classification report:\n",
            "               precision    recall  f1-score   support\n",
            "\n",
            "           B       0.75      0.02      0.03      2210\n",
            "           C       0.61      0.36      0.45      3556\n",
            "           M       0.72      0.30      0.42       550\n",
            "           N       0.81      0.98      0.89     19210\n",
            "           X       0.83      0.32      0.46        59\n",
            "\n",
            "    accuracy                           0.79     25585\n",
            "   macro avg       0.74      0.40      0.45     25585\n",
            "weighted avg       0.78      0.79      0.74     25585\n",
            "\n"
          ],
          "name": "stdout"
        }
      ]
    },
    {
      "cell_type": "markdown",
      "metadata": {
        "id": "gX5nUz9OOIFb"
      },
      "source": [
        "###  Support Vector Classifier"
      ]
    },
    {
      "cell_type": "code",
      "metadata": {
        "id": "oeUW8JOJOLxx",
        "colab": {
          "base_uri": "https://localhost:8080/"
        },
        "outputId": "2aaef40b-33a9-4609-db10-4e6ed50e99a1"
      },
      "source": [
        "SV_classifier = SVC().fit(X_train_scaled, y_train)\n",
        "SV_predictions = SV_classifier.predict(X_test_scaled)\n",
        "SV_score = SV_classifier.score(X_test_scaled, y_test)\n",
        "SV_score_train = SV_classifier.score(X_train_scaled, y_train)\n",
        "\n",
        "SV_classifier_confusion_matrix = confusion_matrix(y_test, SV_predictions, labels = [\"B\",\"C\",\"M\",\"N\",\"X\"])\n",
        "\n",
        "SV_classifier_recall = recall_score(y_test, SV_predictions, labels = [\"B\",\"C\",\"M\",\"N\",\"X\"], average=\"weighted\")\n",
        "\n",
        "SV_classifier_f1_score = f1_score(y_test, SV_predictions, labels = [\"B\",\"C\",\"M\",\"N\",\"X\"], average=\"weighted\")\n",
        "\n",
        "SV_classifier_precision = precision_score(y_test, SV_predictions, labels = [\"B\",\"C\",\"M\",\"N\",\"X\"], average=\"weighted\")\n",
        "\n",
        "SV_classifier_report = classification_report(y_test, SV_predictions)\n",
        "\n",
        "print(\"test score: \",SV_score,\"\\n\", \"train score:\", SV_score_train)\n",
        "print(\"Confusion matrix:\\n\", SV_classifier_confusion_matrix)\n",
        "print(\"f1 score: \", SV_classifier_f1_score)\n",
        "print(\"precision: \", SV_classifier_precision)\n",
        "print(\"Recall\", SV_classifier_recall)\n",
        "print(\"Classification score:\\n\", SV_classifier_report)"
      ],
      "execution_count": null,
      "outputs": [
        {
          "output_type": "stream",
          "text": [
            "test score:  0.7923392612859097 \n",
            " train score: 0.7951649468417761\n",
            "Confusion matrix:\n",
            " [[    4    85     2  2119     0]\n",
            " [    0  1164    23  2368     1]\n",
            " [    0   241   164   142     3]\n",
            " [    3   277     9 18921     0]\n",
            " [    0    29     6     5    19]]\n",
            "f1 score:  0.735585168732001\n",
            "precision:  0.7617439015580554\n",
            "Recall 0.7923392612859097\n",
            "Classification score:\n",
            "               precision    recall  f1-score   support\n",
            "\n",
            "           B       0.57      0.00      0.00      2210\n",
            "           C       0.65      0.33      0.43      3556\n",
            "           M       0.80      0.30      0.44       550\n",
            "           N       0.80      0.98      0.88     19210\n",
            "           X       0.83      0.32      0.46        59\n",
            "\n",
            "    accuracy                           0.79     25585\n",
            "   macro avg       0.73      0.39      0.44     25585\n",
            "weighted avg       0.76      0.79      0.74     25585\n",
            "\n"
          ],
          "name": "stdout"
        }
      ]
    },
    {
      "cell_type": "markdown",
      "metadata": {
        "id": "CaG1pwyTOSe7"
      },
      "source": [
        "######  checking how many predictions are correct"
      ]
    },
    {
      "cell_type": "code",
      "metadata": {
        "id": "q1hMDd3WOXUC",
        "colab": {
          "base_uri": "https://localhost:8080/"
        },
        "outputId": "a4778a09-6fd7-49d6-db29-fde07522d0c1"
      },
      "source": [
        "# logistic regression\n",
        "\n",
        "list_logistic = list(logistic_regression_predictions)\n",
        "\n",
        "cnt = 0\n",
        "for i in range(len(test_target)):\n",
        "    if list_logistic[i] == test_target[i]:\n",
        "        cnt = cnt + 1\n",
        "print(cnt)"
      ],
      "execution_count": null,
      "outputs": [
        {
          "output_type": "stream",
          "text": [
            "19778\n"
          ],
          "name": "stdout"
        }
      ]
    },
    {
      "cell_type": "code",
      "metadata": {
        "id": "PgVoCFuyOdn7",
        "colab": {
          "base_uri": "https://localhost:8080/"
        },
        "outputId": "21e068e3-6d87-402c-c04c-bdef42feeac4"
      },
      "source": [
        "# K-Nearest Neighbors classifier\n",
        "\n",
        "list_knn = list(kneighbors_predictions)\n",
        "\n",
        "cnt = 0\n",
        "for i in range(len(test_target)):\n",
        "    if list_knn[i] == test_target[i]:\n",
        "        cnt = cnt + 1\n",
        "print(cnt)"
      ],
      "execution_count": null,
      "outputs": [
        {
          "output_type": "stream",
          "text": [
            "22274\n"
          ],
          "name": "stdout"
        }
      ]
    },
    {
      "cell_type": "code",
      "metadata": {
        "id": "xoW4R-b5Oghp",
        "colab": {
          "base_uri": "https://localhost:8080/"
        },
        "outputId": "9e09a8e9-7427-40ef-94a6-5e950bde286d"
      },
      "source": [
        "# Decision tree classifier\n",
        "\n",
        "list_decision_tree = list(decision_tree_predictions)\n",
        "\n",
        "cnt = 0\n",
        "for i in range(len(test_target)):\n",
        "    if list_decision_tree[i] == test_target[i]:\n",
        "        cnt = cnt + 1\n",
        "print(cnt)"
      ],
      "execution_count": null,
      "outputs": [
        {
          "output_type": "stream",
          "text": [
            "21217\n"
          ],
          "name": "stdout"
        }
      ]
    },
    {
      "cell_type": "code",
      "metadata": {
        "id": "c613Hlt8Om38",
        "colab": {
          "base_uri": "https://localhost:8080/"
        },
        "outputId": "b95fa681-1bed-44db-8e12-3eba2dd24821"
      },
      "source": [
        "# Random Forest Classifier\n",
        "\n",
        "list_random = list(random_forest_predictions)\n",
        "\n",
        "cnt = 0\n",
        "for i in range(len(test_target)):\n",
        "    if list_random[i] == test_target[i]:\n",
        "        cnt = cnt + 1\n",
        "print(cnt)"
      ],
      "execution_count": null,
      "outputs": [
        {
          "output_type": "stream",
          "text": [
            "22964\n"
          ],
          "name": "stdout"
        }
      ]
    },
    {
      "cell_type": "code",
      "metadata": {
        "id": "U-_f4BBaOpMh",
        "colab": {
          "base_uri": "https://localhost:8080/"
        },
        "outputId": "07df0dba-ed39-40bd-c40f-75c5f026024a"
      },
      "source": [
        "#  Adaboost classifier\n",
        "\n",
        "list_adaboost = list(adaboost_classifier_predictions)\n",
        "\n",
        "cnt = 0\n",
        "for i in range(len(test_target)):\n",
        "    if list_adaboost[i] == test_target[i]:\n",
        "        cnt = cnt + 1\n",
        "print(cnt)"
      ],
      "execution_count": null,
      "outputs": [
        {
          "output_type": "stream",
          "text": [
            "19097\n"
          ],
          "name": "stdout"
        }
      ]
    },
    {
      "cell_type": "code",
      "metadata": {
        "id": "HkZX4GAmOroW",
        "colab": {
          "base_uri": "https://localhost:8080/"
        },
        "outputId": "6aa3b3fb-c9c7-4d5f-a807-a424f18b6663"
      },
      "source": [
        "#  Gradientboost classifier\n",
        "\n",
        "list_gradient = list(gradient_boost_classifier_predictions)\n",
        "\n",
        "cnt = 0\n",
        "for i in range(len(test_target)):\n",
        "    if list_gradient[i] == test_target[i]:\n",
        "        cnt = cnt + 1\n",
        "print(cnt)"
      ],
      "execution_count": null,
      "outputs": [
        {
          "output_type": "stream",
          "text": [
            "20280\n"
          ],
          "name": "stdout"
        }
      ]
    },
    {
      "cell_type": "code",
      "metadata": {
        "id": "V3wTpuDlOjdm",
        "colab": {
          "base_uri": "https://localhost:8080/"
        },
        "outputId": "faad21f8-6743-4db8-9509-27e5fbc56463"
      },
      "source": [
        "# Support Vector Machine Classifier\n",
        "\n",
        "list_svc = list(SV_predictions)\n",
        "\n",
        "cnt = 0\n",
        "for i in range(len(test_target)):\n",
        "    if list_svc[i] == test_target[i]:\n",
        "        cnt = cnt + 1\n",
        "print(cnt)"
      ],
      "execution_count": null,
      "outputs": [
        {
          "output_type": "stream",
          "text": [
            "20272\n"
          ],
          "name": "stdout"
        }
      ]
    },
    {
      "cell_type": "markdown",
      "metadata": {
        "id": "-8wZQwI4ccSM"
      },
      "source": [
        "##Comparison table for different algorithms"
      ]
    },
    {
      "cell_type": "code",
      "metadata": {
        "id": "b5W_CwyXS7PK",
        "colab": {
          "base_uri": "https://localhost:8080/",
          "height": 542
        },
        "outputId": "836618b3-815f-4031-83bd-64ba53b7a6f5"
      },
      "source": [
        "fig = go.Figure(data=[go.Table(header=dict(values=['Algorithms', 'Test Accuracy','Precision','Recall','f1 score']),\n",
        "                 cells=dict(values=[['Logistic Regression','K-nearest neighbors','Support Vector Classifier','Decision tree','Random forest','Adaptive boosting','Gradient boosting'],\n",
        "                                    [logistic_regression_score_test,kneighbors_score,SV_score,decision_tree_score,random_forest_score,adaboost_classifier_score,gradient_boost_classifier_score],\n",
        "                                    [logistic_regression_precision,kneighbors_classifier_precision,SV_classifier_precision,decision_tree_classifier_precision,random_forest_classifier_precision,adaboost_classifier_precision,gradient_boost_classifier_precision],\n",
        "                                    [logistic_regression_recall,kneighbors_classifier_recall,SV_classifier_recall,decision_tree_classifier_recall,random_forest_classifier_recall,adaboost_classifier_recall,gradient_boost_classifier_recall],\n",
        "                                    [logistic_regression_f1_score,kneighbors_classifier_f1_score,SV_classifier_f1_score,decision_tree_classifier_f1score,random_forest_classifier_f1score,adaboost_classifier_f1score,gradient_boost_classifier_f1score]\n",
        "                                    ]))\n",
        "                      ])                     \n",
        "fig.show()"
      ],
      "execution_count": null,
      "outputs": [
        {
          "output_type": "display_data",
          "data": {
            "text/html": [
              "<html>\n",
              "<head><meta charset=\"utf-8\" /></head>\n",
              "<body>\n",
              "    <div>\n",
              "            <script src=\"https://cdnjs.cloudflare.com/ajax/libs/mathjax/2.7.5/MathJax.js?config=TeX-AMS-MML_SVG\"></script><script type=\"text/javascript\">if (window.MathJax) {MathJax.Hub.Config({SVG: {font: \"STIX-Web\"}});}</script>\n",
              "                <script type=\"text/javascript\">window.PlotlyConfig = {MathJaxConfig: 'local'};</script>\n",
              "        <script src=\"https://cdn.plot.ly/plotly-latest.min.js\"></script>    \n",
              "            <div id=\"b4716055-bd2b-4e3f-8a02-fddf241b936a\" class=\"plotly-graph-div\" style=\"height:525px; width:100%;\"></div>\n",
              "            <script type=\"text/javascript\">\n",
              "                \n",
              "                    window.PLOTLYENV=window.PLOTLYENV || {};\n",
              "                    \n",
              "                if (document.getElementById(\"b4716055-bd2b-4e3f-8a02-fddf241b936a\")) {\n",
              "                    Plotly.newPlot(\n",
              "                        'b4716055-bd2b-4e3f-8a02-fddf241b936a',\n",
              "                        [{\"cells\": {\"values\": [[\"Logistic Regression\", \"K-nearest neighbors\", \"Support Vector Classifier\", \"Decision tree\", \"Random forest\", \"Adaptive boosting\", \"Gradient boosting\"], [0.773031072894274, 0.8705882352941177, 0.7923392612859097, 0.8292749658002736, 0.8975571623998436, 0.7464139144029704, 0.7926519444987298], [0.6810791240067204, 0.8743809198140293, 0.7617439015580554, 0.827237987534546, 0.8979803834020356, 0.682375110811198, 0.7751113768828299], [0.773031072894274, 0.8705882352941177, 0.7923392612859097, 0.8292749658002736, 0.8975571623998436, 0.7464139144029704, 0.7926519444987298], [0.7152895976620067, 0.8710206953720079, 0.735585168732001, 0.8281700628527126, 0.8881541041939315, 0.7042187257266067, 0.7410752244112693]]}, \"header\": {\"values\": [\"Algorithms\", \"Test Accuracy\", \"Precision\", \"Recall\", \"f1 score\"]}, \"type\": \"table\"}],\n",
              "                        {\"template\": {\"data\": {\"bar\": [{\"error_x\": {\"color\": \"#2a3f5f\"}, \"error_y\": {\"color\": \"#2a3f5f\"}, \"marker\": {\"line\": {\"color\": \"#E5ECF6\", \"width\": 0.5}}, \"type\": \"bar\"}], \"barpolar\": [{\"marker\": {\"line\": {\"color\": \"#E5ECF6\", \"width\": 0.5}}, \"type\": \"barpolar\"}], \"carpet\": [{\"aaxis\": {\"endlinecolor\": \"#2a3f5f\", \"gridcolor\": \"white\", \"linecolor\": \"white\", \"minorgridcolor\": \"white\", \"startlinecolor\": \"#2a3f5f\"}, \"baxis\": {\"endlinecolor\": \"#2a3f5f\", \"gridcolor\": \"white\", \"linecolor\": \"white\", \"minorgridcolor\": \"white\", \"startlinecolor\": \"#2a3f5f\"}, \"type\": \"carpet\"}], \"choropleth\": [{\"colorbar\": {\"outlinewidth\": 0, \"ticks\": \"\"}, \"type\": \"choropleth\"}], \"contour\": [{\"colorbar\": {\"outlinewidth\": 0, \"ticks\": \"\"}, \"colorscale\": [[0.0, \"#0d0887\"], [0.1111111111111111, \"#46039f\"], [0.2222222222222222, \"#7201a8\"], [0.3333333333333333, \"#9c179e\"], [0.4444444444444444, \"#bd3786\"], [0.5555555555555556, \"#d8576b\"], [0.6666666666666666, \"#ed7953\"], [0.7777777777777778, \"#fb9f3a\"], [0.8888888888888888, \"#fdca26\"], [1.0, \"#f0f921\"]], \"type\": \"contour\"}], \"contourcarpet\": [{\"colorbar\": {\"outlinewidth\": 0, \"ticks\": \"\"}, \"type\": \"contourcarpet\"}], \"heatmap\": [{\"colorbar\": {\"outlinewidth\": 0, \"ticks\": \"\"}, \"colorscale\": [[0.0, \"#0d0887\"], [0.1111111111111111, \"#46039f\"], [0.2222222222222222, \"#7201a8\"], [0.3333333333333333, \"#9c179e\"], [0.4444444444444444, \"#bd3786\"], [0.5555555555555556, \"#d8576b\"], [0.6666666666666666, \"#ed7953\"], [0.7777777777777778, \"#fb9f3a\"], [0.8888888888888888, \"#fdca26\"], [1.0, \"#f0f921\"]], \"type\": \"heatmap\"}], \"heatmapgl\": [{\"colorbar\": {\"outlinewidth\": 0, \"ticks\": \"\"}, \"colorscale\": [[0.0, \"#0d0887\"], [0.1111111111111111, \"#46039f\"], [0.2222222222222222, \"#7201a8\"], [0.3333333333333333, \"#9c179e\"], [0.4444444444444444, \"#bd3786\"], [0.5555555555555556, \"#d8576b\"], [0.6666666666666666, \"#ed7953\"], [0.7777777777777778, \"#fb9f3a\"], [0.8888888888888888, \"#fdca26\"], [1.0, \"#f0f921\"]], \"type\": \"heatmapgl\"}], \"histogram\": [{\"marker\": {\"colorbar\": {\"outlinewidth\": 0, \"ticks\": \"\"}}, \"type\": \"histogram\"}], \"histogram2d\": [{\"colorbar\": {\"outlinewidth\": 0, \"ticks\": \"\"}, \"colorscale\": [[0.0, \"#0d0887\"], [0.1111111111111111, \"#46039f\"], [0.2222222222222222, \"#7201a8\"], [0.3333333333333333, \"#9c179e\"], [0.4444444444444444, \"#bd3786\"], [0.5555555555555556, \"#d8576b\"], [0.6666666666666666, \"#ed7953\"], [0.7777777777777778, \"#fb9f3a\"], [0.8888888888888888, \"#fdca26\"], [1.0, \"#f0f921\"]], \"type\": \"histogram2d\"}], \"histogram2dcontour\": [{\"colorbar\": {\"outlinewidth\": 0, \"ticks\": \"\"}, \"colorscale\": [[0.0, \"#0d0887\"], [0.1111111111111111, \"#46039f\"], [0.2222222222222222, \"#7201a8\"], [0.3333333333333333, \"#9c179e\"], [0.4444444444444444, \"#bd3786\"], [0.5555555555555556, \"#d8576b\"], [0.6666666666666666, \"#ed7953\"], [0.7777777777777778, \"#fb9f3a\"], [0.8888888888888888, \"#fdca26\"], [1.0, \"#f0f921\"]], \"type\": \"histogram2dcontour\"}], \"mesh3d\": [{\"colorbar\": {\"outlinewidth\": 0, \"ticks\": \"\"}, \"type\": \"mesh3d\"}], \"parcoords\": [{\"line\": {\"colorbar\": {\"outlinewidth\": 0, \"ticks\": \"\"}}, \"type\": \"parcoords\"}], \"pie\": [{\"automargin\": true, \"type\": \"pie\"}], \"scatter\": [{\"marker\": {\"colorbar\": {\"outlinewidth\": 0, \"ticks\": \"\"}}, \"type\": \"scatter\"}], \"scatter3d\": [{\"line\": {\"colorbar\": {\"outlinewidth\": 0, \"ticks\": \"\"}}, \"marker\": {\"colorbar\": {\"outlinewidth\": 0, \"ticks\": \"\"}}, \"type\": \"scatter3d\"}], \"scattercarpet\": [{\"marker\": {\"colorbar\": {\"outlinewidth\": 0, \"ticks\": \"\"}}, \"type\": \"scattercarpet\"}], \"scattergeo\": [{\"marker\": {\"colorbar\": {\"outlinewidth\": 0, \"ticks\": \"\"}}, \"type\": \"scattergeo\"}], \"scattergl\": [{\"marker\": {\"colorbar\": {\"outlinewidth\": 0, \"ticks\": \"\"}}, \"type\": \"scattergl\"}], \"scattermapbox\": [{\"marker\": {\"colorbar\": {\"outlinewidth\": 0, \"ticks\": \"\"}}, \"type\": \"scattermapbox\"}], \"scatterpolar\": [{\"marker\": {\"colorbar\": {\"outlinewidth\": 0, \"ticks\": \"\"}}, \"type\": \"scatterpolar\"}], \"scatterpolargl\": [{\"marker\": {\"colorbar\": {\"outlinewidth\": 0, \"ticks\": \"\"}}, \"type\": \"scatterpolargl\"}], \"scatterternary\": [{\"marker\": {\"colorbar\": {\"outlinewidth\": 0, \"ticks\": \"\"}}, \"type\": \"scatterternary\"}], \"surface\": [{\"colorbar\": {\"outlinewidth\": 0, \"ticks\": \"\"}, \"colorscale\": [[0.0, \"#0d0887\"], [0.1111111111111111, \"#46039f\"], [0.2222222222222222, \"#7201a8\"], [0.3333333333333333, \"#9c179e\"], [0.4444444444444444, \"#bd3786\"], [0.5555555555555556, \"#d8576b\"], [0.6666666666666666, \"#ed7953\"], [0.7777777777777778, \"#fb9f3a\"], [0.8888888888888888, \"#fdca26\"], [1.0, \"#f0f921\"]], \"type\": \"surface\"}], \"table\": [{\"cells\": {\"fill\": {\"color\": \"#EBF0F8\"}, \"line\": {\"color\": \"white\"}}, \"header\": {\"fill\": {\"color\": \"#C8D4E3\"}, \"line\": {\"color\": \"white\"}}, \"type\": \"table\"}]}, \"layout\": {\"annotationdefaults\": {\"arrowcolor\": \"#2a3f5f\", \"arrowhead\": 0, \"arrowwidth\": 1}, \"coloraxis\": {\"colorbar\": {\"outlinewidth\": 0, \"ticks\": \"\"}}, \"colorscale\": {\"diverging\": [[0, \"#8e0152\"], [0.1, \"#c51b7d\"], [0.2, \"#de77ae\"], [0.3, \"#f1b6da\"], [0.4, \"#fde0ef\"], [0.5, \"#f7f7f7\"], [0.6, \"#e6f5d0\"], [0.7, \"#b8e186\"], [0.8, \"#7fbc41\"], [0.9, \"#4d9221\"], [1, \"#276419\"]], \"sequential\": [[0.0, \"#0d0887\"], [0.1111111111111111, \"#46039f\"], [0.2222222222222222, \"#7201a8\"], [0.3333333333333333, \"#9c179e\"], [0.4444444444444444, \"#bd3786\"], [0.5555555555555556, \"#d8576b\"], [0.6666666666666666, \"#ed7953\"], [0.7777777777777778, \"#fb9f3a\"], [0.8888888888888888, \"#fdca26\"], [1.0, \"#f0f921\"]], \"sequentialminus\": [[0.0, \"#0d0887\"], [0.1111111111111111, \"#46039f\"], [0.2222222222222222, \"#7201a8\"], [0.3333333333333333, \"#9c179e\"], [0.4444444444444444, \"#bd3786\"], [0.5555555555555556, \"#d8576b\"], [0.6666666666666666, \"#ed7953\"], [0.7777777777777778, \"#fb9f3a\"], [0.8888888888888888, \"#fdca26\"], [1.0, \"#f0f921\"]]}, \"colorway\": [\"#636efa\", \"#EF553B\", \"#00cc96\", \"#ab63fa\", \"#FFA15A\", \"#19d3f3\", \"#FF6692\", \"#B6E880\", \"#FF97FF\", \"#FECB52\"], \"font\": {\"color\": \"#2a3f5f\"}, \"geo\": {\"bgcolor\": \"white\", \"lakecolor\": \"white\", \"landcolor\": \"#E5ECF6\", \"showlakes\": true, \"showland\": true, \"subunitcolor\": \"white\"}, \"hoverlabel\": {\"align\": \"left\"}, \"hovermode\": \"closest\", \"mapbox\": {\"style\": \"light\"}, \"paper_bgcolor\": \"white\", \"plot_bgcolor\": \"#E5ECF6\", \"polar\": {\"angularaxis\": {\"gridcolor\": \"white\", \"linecolor\": \"white\", \"ticks\": \"\"}, \"bgcolor\": \"#E5ECF6\", \"radialaxis\": {\"gridcolor\": \"white\", \"linecolor\": \"white\", \"ticks\": \"\"}}, \"scene\": {\"xaxis\": {\"backgroundcolor\": \"#E5ECF6\", \"gridcolor\": \"white\", \"gridwidth\": 2, \"linecolor\": \"white\", \"showbackground\": true, \"ticks\": \"\", \"zerolinecolor\": \"white\"}, \"yaxis\": {\"backgroundcolor\": \"#E5ECF6\", \"gridcolor\": \"white\", \"gridwidth\": 2, \"linecolor\": \"white\", \"showbackground\": true, \"ticks\": \"\", \"zerolinecolor\": \"white\"}, \"zaxis\": {\"backgroundcolor\": \"#E5ECF6\", \"gridcolor\": \"white\", \"gridwidth\": 2, \"linecolor\": \"white\", \"showbackground\": true, \"ticks\": \"\", \"zerolinecolor\": \"white\"}}, \"shapedefaults\": {\"line\": {\"color\": \"#2a3f5f\"}}, \"ternary\": {\"aaxis\": {\"gridcolor\": \"white\", \"linecolor\": \"white\", \"ticks\": \"\"}, \"baxis\": {\"gridcolor\": \"white\", \"linecolor\": \"white\", \"ticks\": \"\"}, \"bgcolor\": \"#E5ECF6\", \"caxis\": {\"gridcolor\": \"white\", \"linecolor\": \"white\", \"ticks\": \"\"}}, \"title\": {\"x\": 0.05}, \"xaxis\": {\"automargin\": true, \"gridcolor\": \"white\", \"linecolor\": \"white\", \"ticks\": \"\", \"title\": {\"standoff\": 15}, \"zerolinecolor\": \"white\", \"zerolinewidth\": 2}, \"yaxis\": {\"automargin\": true, \"gridcolor\": \"white\", \"linecolor\": \"white\", \"ticks\": \"\", \"title\": {\"standoff\": 15}, \"zerolinecolor\": \"white\", \"zerolinewidth\": 2}}}},\n",
              "                        {\"responsive\": true}\n",
              "                    ).then(function(){\n",
              "                            \n",
              "var gd = document.getElementById('b4716055-bd2b-4e3f-8a02-fddf241b936a');\n",
              "var x = new MutationObserver(function (mutations, observer) {{\n",
              "        var display = window.getComputedStyle(gd).display;\n",
              "        if (!display || display === 'none') {{\n",
              "            console.log([gd, 'removed!']);\n",
              "            Plotly.purge(gd);\n",
              "            observer.disconnect();\n",
              "        }}\n",
              "}});\n",
              "\n",
              "// Listen for the removal of the full notebook cells\n",
              "var notebookContainer = gd.closest('#notebook-container');\n",
              "if (notebookContainer) {{\n",
              "    x.observe(notebookContainer, {childList: true});\n",
              "}}\n",
              "\n",
              "// Listen for the clearing of the current output cell\n",
              "var outputEl = gd.closest('.output');\n",
              "if (outputEl) {{\n",
              "    x.observe(outputEl, {childList: true});\n",
              "}}\n",
              "\n",
              "                        })\n",
              "                };\n",
              "                \n",
              "            </script>\n",
              "        </div>\n",
              "</body>\n",
              "</html>"
            ]
          },
          "metadata": {
            "tags": []
          }
        }
      ]
    },
    {
      "cell_type": "markdown",
      "metadata": {
        "id": "c7Cugk3pA9Cg"
      },
      "source": [
        "## Comparison Scatter Plot for different Algorithms"
      ]
    },
    {
      "cell_type": "code",
      "metadata": {
        "id": "PbscxOBHhutq",
        "colab": {
          "base_uri": "https://localhost:8080/",
          "height": 350
        },
        "outputId": "cb0e5026-0b08-482b-9f1f-5da5042f2480"
      },
      "source": [
        "X = ['LR','KNN','SVC','DT','RF','AB','GB']\n",
        "precision = [logistic_regression_precision,kneighbors_classifier_precision,SV_classifier_precision,decision_tree_classifier_precision,random_forest_classifier_precision,adaboost_classifier_precision,gradient_boost_classifier_precision]\n",
        "recall_ = [logistic_regression_recall,kneighbors_classifier_recall,SV_classifier_recall,decision_tree_classifier_recall,random_forest_classifier_recall,adaboost_classifier_recall,gradient_boost_classifier_recall]\n",
        "f1 = [logistic_regression_f1_score,kneighbors_classifier_f1_score,SV_classifier_f1_score,decision_tree_classifier_f1score,random_forest_classifier_f1score,adaboost_classifier_f1score,gradient_boost_classifier_f1score]\n",
        "\n",
        "fig = plt.figure(figsize=(10,5))\n",
        "ax = fig.add_subplot(1, 1, 1)\n",
        "plt.title(\"Performance measure graph\")\n",
        "plt.xlabel(\"Algorithms\")\n",
        "plt.ylabel(\"Performance\")\n",
        "ax.scatter(X,precision,c='red',marker='+', label = 'precision')\n",
        "ax.scatter(X,recall_,c= 'purple', label = 'recall')\n",
        "ax.scatter(X, f1,c = 'black', marker = '*', label = 'f1 score')\n",
        "plt.legend()\n",
        "plt.show()"
      ],
      "execution_count": null,
      "outputs": [
        {
          "output_type": "display_data",
          "data": {
            "image/png": "[encoded data removed]",
            "text/plain": [
              "<Figure size 720x360 with 1 Axes>"
            ]
          },
          "metadata": {
            "tags": [],
            "needs_background": "light"
          }
        }
      ]
    },
    {
      "cell_type": "markdown",
      "metadata": {
        "id": "HFmyXrKoBHXS"
      },
      "source": [
        "## Bar plot for F1 Score"
      ]
    },
    {
      "cell_type": "code",
      "metadata": {
        "colab": {
          "base_uri": "https://localhost:8080/",
          "height": 350
        },
        "id": "dI9FkEzMwZRg",
        "outputId": "b53fe2d8-4d3f-4626-dcf7-211583a761f5"
      },
      "source": [
        "fig = plt.figure(figsize=(10,5))\r\n",
        "ax = fig.add_subplot(1, 1, 1)\r\n",
        "plt.title(\"F1-Score graph\")\r\n",
        "plt.xlabel(\"Algorithms\")\r\n",
        "plt.ylabel(\"Performance\")\r\n",
        "ax.bar(X, f1, align='center', alpha=0.7)\r\n",
        "\r\n",
        "plt.show()"
      ],
      "execution_count": null,
      "outputs": [
        {
          "output_type": "display_data",
          "data": {
            "image/png": "[encoded data removed]",
            "text/plain": [
              "<Figure size 720x360 with 1 Axes>"
            ]
          },
          "metadata": {
            "tags": [],
            "needs_background": "light"
          }
        }
      ]
    },
    {
      "cell_type": "markdown",
      "metadata": {
        "id": "z943eedbBPup"
      },
      "source": [
        "## Bar plot for precision"
      ]
    },
    {
      "cell_type": "code",
      "metadata": {
        "colab": {
          "base_uri": "https://localhost:8080/",
          "height": 350
        },
        "id": "-887oct7BOl3",
        "outputId": "b7aed45e-34e7-4127-c1cf-373a14839bb5"
      },
      "source": [
        "fig = plt.figure(figsize=(10,5))\r\n",
        "ax = fig.add_subplot(1, 1, 1)\r\n",
        "plt.title(\"Precision graph\")\r\n",
        "plt.xlabel(\"Algorithms\")\r\n",
        "plt.ylabel(\"Performance\")\r\n",
        "ax.bar(X, precision, align='center', alpha=0.7)\r\n",
        "\r\n",
        "plt.show()"
      ],
      "execution_count": null,
      "outputs": [
        {
          "output_type": "display_data",
          "data": {
            "image/png": "[encoded data removed]",
            "text/plain": [
              "<Figure size 720x360 with 1 Axes>"
            ]
          },
          "metadata": {
            "tags": [],
            "needs_background": "light"
          }
        }
      ]
    },
    {
      "cell_type": "markdown",
      "metadata": {
        "id": "HFPQi1BNOyvS"
      },
      "source": [
        "#### Making prediction on a randomly selected datapoints"
      ]
    },
    {
      "cell_type": "markdown",
      "metadata": {
        "id": "jLOOv7PqBiHa"
      },
      "source": [
        "## Bar plot for Recall"
      ]
    },
    {
      "cell_type": "code",
      "metadata": {
        "colab": {
          "base_uri": "https://localhost:8080/",
          "height": 350
        },
        "id": "tJ_0SKV0BimZ",
        "outputId": "bb9a9ac4-b8e0-4432-d679-8cfcb26085bc"
      },
      "source": [
        "fig = plt.figure(figsize=(10,5))\r\n",
        "ax = fig.add_subplot(1, 1, 1)\r\n",
        "plt.title(\"Recall graph\")\r\n",
        "plt.xlabel(\"Algorithms\")\r\n",
        "plt.ylabel(\"Performance\")\r\n",
        "ax.bar(X, recall_, align='center', alpha=0.7)\r\n",
        "\r\n",
        "plt.show()"
      ],
      "execution_count": null,
      "outputs": [
        {
          "output_type": "display_data",
          "data": {
            "image/png": "[encoded data removed]",
            "text/plain": [
              "<Figure size 720x360 with 1 Axes>"
            ]
          },
          "metadata": {
            "tags": [],
            "needs_background": "light"
          }
        }
      ]
    },
    {
      "cell_type": "markdown",
      "metadata": {
        "id": "xajs6518BxT_"
      },
      "source": [
        "#Testing the models on test dataset"
      ]
    },
    {
      "cell_type": "code",
      "metadata": {
        "id": "stEN6HKsOuna",
        "colab": {
          "base_uri": "https://localhost:8080/",
          "height": 230
        },
        "outputId": "ebb1dd6c-182a-4809-f207-65f479697587"
      },
      "source": [
        "input_test = pd.read_csv(\"/content/drive/My Drive/Colab Notebooks/SEM 3 project Solarflare/M_testing_input.csv\")\n",
        "print(input_test.shape)\n",
        "display(input_test.head(3))\n",
        "#input_test.isnull().any()"
      ],
      "execution_count": null,
      "outputs": [
        {
          "output_type": "stream",
          "text": [
            "(59, 27)\n"
          ],
          "name": "stdout"
        },
        {
          "output_type": "display_data",
          "data": {
            "text/html": [
              "<div>\n",
              "<style scoped>\n",
              "    .dataframe tbody tr th:only-of-type {\n",
              "        vertical-align: middle;\n",
              "    }\n",
              "\n",
              "    .dataframe tbody tr th {\n",
              "        vertical-align: top;\n",
              "    }\n",
              "\n",
              "    .dataframe thead th {\n",
              "        text-align: right;\n",
              "    }\n",
              "</style>\n",
              "<table border=\"1\" class=\"dataframe\">\n",
              "  <thead>\n",
              "    <tr style=\"text-align: right;\">\n",
              "      <th></th>\n",
              "      <th>Label</th>\n",
              "      <th>flare</th>\n",
              "      <th>timestamp</th>\n",
              "      <th>NOAA</th>\n",
              "      <th>HARP</th>\n",
              "      <th>TOTUSJH</th>\n",
              "      <th>TOTUSJZ</th>\n",
              "      <th>TOTPOT</th>\n",
              "      <th>TOTBSQ</th>\n",
              "      <th>USFLUX</th>\n",
              "      <th>Cdec</th>\n",
              "      <th>Chis1d</th>\n",
              "      <th>Chis</th>\n",
              "      <th>AREA_ACR</th>\n",
              "      <th>SAVNCPP</th>\n",
              "      <th>ABSNJZH</th>\n",
              "      <th>Edec</th>\n",
              "      <th>Xmax1d</th>\n",
              "      <th>Mhis</th>\n",
              "      <th>R_VALUE</th>\n",
              "      <th>Mdec</th>\n",
              "      <th>MEANPOT</th>\n",
              "      <th>Mhis1d</th>\n",
              "      <th>TOTFX</th>\n",
              "      <th>TOTFZ</th>\n",
              "      <th>MEANSHR</th>\n",
              "      <th>SHRGT45</th>\n",
              "    </tr>\n",
              "  </thead>\n",
              "  <tbody>\n",
              "    <tr>\n",
              "      <th>0</th>\n",
              "      <td>Negative</td>\n",
              "      <td>B6.6</td>\n",
              "      <td>2015-04-06T19:34:17.70Z</td>\n",
              "      <td>12320</td>\n",
              "      <td>5415</td>\n",
              "      <td>0.829165</td>\n",
              "      <td>0.194284</td>\n",
              "      <td>1.022818</td>\n",
              "      <td>0.167146</td>\n",
              "      <td>1.131635</td>\n",
              "      <td>0.119756</td>\n",
              "      <td>0.111111</td>\n",
              "      <td>0.034483</td>\n",
              "      <td>-0.106377</td>\n",
              "      <td>0.775296</td>\n",
              "      <td>0.466728</td>\n",
              "      <td>0.003346</td>\n",
              "      <td>0.003226</td>\n",
              "      <td>0.0</td>\n",
              "      <td>0.225641</td>\n",
              "      <td>0.0</td>\n",
              "      <td>0.853201</td>\n",
              "      <td>0.0</td>\n",
              "      <td>2.260590</td>\n",
              "      <td>-0.424243</td>\n",
              "      <td>0.509301</td>\n",
              "      <td>0.278585</td>\n",
              "    </tr>\n",
              "    <tr>\n",
              "      <th>1</th>\n",
              "      <td>Negative</td>\n",
              "      <td>B6.6</td>\n",
              "      <td>2015-04-06T20:34:17.70Z</td>\n",
              "      <td>12320</td>\n",
              "      <td>5415</td>\n",
              "      <td>0.769663</td>\n",
              "      <td>0.148384</td>\n",
              "      <td>0.948129</td>\n",
              "      <td>0.165071</td>\n",
              "      <td>1.124376</td>\n",
              "      <td>0.110181</td>\n",
              "      <td>0.111111</td>\n",
              "      <td>0.034483</td>\n",
              "      <td>-0.154267</td>\n",
              "      <td>0.806186</td>\n",
              "      <td>0.594247</td>\n",
              "      <td>0.003079</td>\n",
              "      <td>0.003226</td>\n",
              "      <td>0.0</td>\n",
              "      <td>0.092246</td>\n",
              "      <td>0.0</td>\n",
              "      <td>0.874719</td>\n",
              "      <td>0.0</td>\n",
              "      <td>2.177428</td>\n",
              "      <td>-0.502534</td>\n",
              "      <td>0.459525</td>\n",
              "      <td>0.190485</td>\n",
              "    </tr>\n",
              "    <tr>\n",
              "      <th>2</th>\n",
              "      <td>Negative</td>\n",
              "      <td>C1.0</td>\n",
              "      <td>2015-04-04T17:34:17.40Z</td>\n",
              "      <td>12320</td>\n",
              "      <td>5415</td>\n",
              "      <td>0.467316</td>\n",
              "      <td>-0.260086</td>\n",
              "      <td>0.482809</td>\n",
              "      <td>-0.112756</td>\n",
              "      <td>0.200802</td>\n",
              "      <td>0.000000</td>\n",
              "      <td>0.000000</td>\n",
              "      <td>0.000000</td>\n",
              "      <td>-0.479449</td>\n",
              "      <td>0.711112</td>\n",
              "      <td>-0.083101</td>\n",
              "      <td>0.001508</td>\n",
              "      <td>0.000925</td>\n",
              "      <td>0.0</td>\n",
              "      <td>-0.458036</td>\n",
              "      <td>0.0</td>\n",
              "      <td>1.126540</td>\n",
              "      <td>0.0</td>\n",
              "      <td>2.642107</td>\n",
              "      <td>-3.182923</td>\n",
              "      <td>0.206148</td>\n",
              "      <td>-0.473586</td>\n",
              "    </tr>\n",
              "  </tbody>\n",
              "</table>\n",
              "</div>"
            ],
            "text/plain": [
              "      Label flare                timestamp  ...     TOTFZ   MEANSHR   SHRGT45\n",
              "0  Negative  B6.6  2015-04-06T19:34:17.70Z  ... -0.424243  0.509301  0.278585\n",
              "1  Negative  B6.6  2015-04-06T20:34:17.70Z  ... -0.502534  0.459525  0.190485\n",
              "2  Negative  C1.0  2015-04-04T17:34:17.40Z  ... -3.182923  0.206148 -0.473586\n",
              "\n",
              "[3 rows x 27 columns]"
            ]
          },
          "metadata": {
            "tags": []
          }
        }
      ]
    },
    {
      "cell_type": "code",
      "metadata": {
        "id": "uXSoV5nWO2cG",
        "colab": {
          "base_uri": "https://localhost:8080/"
        },
        "outputId": "b4a5170e-1548-42ce-b9cd-4f0a90090bfd"
      },
      "source": [
        "input_test[\"flare\"] = pd.DataFrame(clean_target(list(input_test[\"flare\"])))\n",
        "list_flare = list(input_test[\"flare\"])\n",
        "print(list_flare)"
      ],
      "execution_count": null,
      "outputs": [
        {
          "output_type": "stream",
          "text": [
            "['B', 'B', 'C', 'C', 'C', 'C', 'C', 'C', 'C', 'C', 'C', 'C', 'C', 'C', 'M', 'M', 'M', 'M', 'N', 'N', 'N', 'N', 'C', 'C', 'C', 'C', 'C', 'M', 'M', 'M', 'M', 'M', 'M', 'M', 'M', 'X', 'X', 'X', 'X', 'X', 'X', 'X', 'X', 'X', 'X', 'X', 'N', 'N', 'N', 'N', 'N', 'B', 'B', 'B', 'B', 'B', 'B', 'B', 'B']\n"
          ],
          "name": "stdout"
        }
      ]
    },
    {
      "cell_type": "code",
      "metadata": {
        "id": "B_QN0reHO5xV",
        "colab": {
          "base_uri": "https://localhost:8080/",
          "height": 142
        },
        "outputId": "9425c058-6b61-49df-8d08-3eb9498532f8"
      },
      "source": [
        "input_test.drop([\"Label\",\"flare\",\"timestamp\", \"NOAA\", \"HARP\",\"Cdec\",\"Chis\",\"Edec\",\"Chis1d\",\"TOTFX\",\"Xmax1d\",\"Mhis\",\"Mdec\",\"Mhis1d\",\"MEANSHR\"],inplace = True, axis = 1)\n",
        "display(input_test.head(3))"
      ],
      "execution_count": null,
      "outputs": [
        {
          "output_type": "display_data",
          "data": {
            "text/html": [
              "<div>\n",
              "<style scoped>\n",
              "    .dataframe tbody tr th:only-of-type {\n",
              "        vertical-align: middle;\n",
              "    }\n",
              "\n",
              "    .dataframe tbody tr th {\n",
              "        vertical-align: top;\n",
              "    }\n",
              "\n",
              "    .dataframe thead th {\n",
              "        text-align: right;\n",
              "    }\n",
              "</style>\n",
              "<table border=\"1\" class=\"dataframe\">\n",
              "  <thead>\n",
              "    <tr style=\"text-align: right;\">\n",
              "      <th></th>\n",
              "      <th>TOTUSJH</th>\n",
              "      <th>TOTUSJZ</th>\n",
              "      <th>TOTPOT</th>\n",
              "      <th>TOTBSQ</th>\n",
              "      <th>USFLUX</th>\n",
              "      <th>AREA_ACR</th>\n",
              "      <th>SAVNCPP</th>\n",
              "      <th>ABSNJZH</th>\n",
              "      <th>R_VALUE</th>\n",
              "      <th>MEANPOT</th>\n",
              "      <th>TOTFZ</th>\n",
              "      <th>SHRGT45</th>\n",
              "    </tr>\n",
              "  </thead>\n",
              "  <tbody>\n",
              "    <tr>\n",
              "      <th>0</th>\n",
              "      <td>0.829165</td>\n",
              "      <td>0.194284</td>\n",
              "      <td>1.022818</td>\n",
              "      <td>0.167146</td>\n",
              "      <td>1.131635</td>\n",
              "      <td>-0.106377</td>\n",
              "      <td>0.775296</td>\n",
              "      <td>0.466728</td>\n",
              "      <td>0.225641</td>\n",
              "      <td>0.853201</td>\n",
              "      <td>-0.424243</td>\n",
              "      <td>0.278585</td>\n",
              "    </tr>\n",
              "    <tr>\n",
              "      <th>1</th>\n",
              "      <td>0.769663</td>\n",
              "      <td>0.148384</td>\n",
              "      <td>0.948129</td>\n",
              "      <td>0.165071</td>\n",
              "      <td>1.124376</td>\n",
              "      <td>-0.154267</td>\n",
              "      <td>0.806186</td>\n",
              "      <td>0.594247</td>\n",
              "      <td>0.092246</td>\n",
              "      <td>0.874719</td>\n",
              "      <td>-0.502534</td>\n",
              "      <td>0.190485</td>\n",
              "    </tr>\n",
              "    <tr>\n",
              "      <th>2</th>\n",
              "      <td>0.467316</td>\n",
              "      <td>-0.260086</td>\n",
              "      <td>0.482809</td>\n",
              "      <td>-0.112756</td>\n",
              "      <td>0.200802</td>\n",
              "      <td>-0.479449</td>\n",
              "      <td>0.711112</td>\n",
              "      <td>-0.083101</td>\n",
              "      <td>-0.458036</td>\n",
              "      <td>1.126540</td>\n",
              "      <td>-3.182923</td>\n",
              "      <td>-0.473586</td>\n",
              "    </tr>\n",
              "  </tbody>\n",
              "</table>\n",
              "</div>"
            ],
            "text/plain": [
              "    TOTUSJH   TOTUSJZ    TOTPOT  ...   MEANPOT     TOTFZ   SHRGT45\n",
              "0  0.829165  0.194284  1.022818  ...  0.853201 -0.424243  0.278585\n",
              "1  0.769663  0.148384  0.948129  ...  0.874719 -0.502534  0.190485\n",
              "2  0.467316 -0.260086  0.482809  ...  1.126540 -3.182923 -0.473586\n",
              "\n",
              "[3 rows x 12 columns]"
            ]
          },
          "metadata": {
            "tags": []
          }
        }
      ]
    },
    {
      "cell_type": "code",
      "metadata": {
        "id": "g1nOyvVcPB1O"
      },
      "source": [
        "input_scaled = scaler.transform(input_test)"
      ],
      "execution_count": null,
      "outputs": []
    },
    {
      "cell_type": "markdown",
      "metadata": {
        "id": "gnLOx8ZICJ1E"
      },
      "source": [
        "### Test on Logistic Regression Model"
      ]
    },
    {
      "cell_type": "code",
      "metadata": {
        "colab": {
          "base_uri": "https://localhost:8080/"
        },
        "id": "UerQysapCPnR",
        "outputId": "405940ed-6551-423e-b967-a71fbdd63ca8"
      },
      "source": [
        "predictions_logistic = logistic_regression.predict(input_scaled)\r\n",
        "print(predictions_logistic)\r\n",
        "print(\"\\n Total true predictions using logistic Regression\")\r\n",
        "listlogistic = list(predictions_logistic)\r\n",
        "cnt = 0\r\n",
        "for i in range(len(list_flare)):\r\n",
        "    if listlogistic[i] == list_flare[i]:\r\n",
        "        cnt = cnt + 1\r\n",
        "print(cnt)"
      ],
      "execution_count": null,
      "outputs": [
        {
          "output_type": "stream",
          "text": [
            "['N' 'N' 'N' 'N' 'C' 'C' 'N' 'N' 'N' 'N' 'N' 'N' 'N' 'N' 'C' 'C' 'C' 'C'\n",
            " 'N' 'N' 'N' 'N' 'C' 'C' 'C' 'C' 'C' 'N' 'C' 'C' 'C' 'C' 'C' 'C' 'C' 'C'\n",
            " 'C' 'M' 'M' 'M' 'M' 'C' 'C' 'X' 'X' 'M' 'N' 'N' 'N' 'N' 'N' 'N' 'N' 'N'\n",
            " 'N' 'N' 'N' 'N' 'N']\n",
            "\n",
            " Total true predictions using logistic Regression\n",
            "18\n"
          ],
          "name": "stdout"
        }
      ]
    },
    {
      "cell_type": "markdown",
      "metadata": {
        "id": "cM1QXH5iB_fW"
      },
      "source": [
        "###Test on K-nearest neighbor model"
      ]
    },
    {
      "cell_type": "code",
      "metadata": {
        "id": "NfMIf2V_PEY-",
        "colab": {
          "base_uri": "https://localhost:8080/"
        },
        "outputId": "707ab921-3752-41c8-adce-2298f3ed2722"
      },
      "source": [
        "predictions_KNN = kneighbors_classifier.predict(input_scaled)\n",
        "print(predictions_KNN)\n",
        "print(\"\\n Total true predictions\")\n",
        "listKNN = list(predictions_KNN)\n",
        "cnt = 0\n",
        "for i in range(len(list_flare)):\n",
        "    if listKNN[i] == list_flare[i]:\n",
        "        cnt = cnt + 1\n",
        "print(cnt)"
      ],
      "execution_count": null,
      "outputs": [
        {
          "output_type": "stream",
          "text": [
            "['C' 'C' 'C' 'C' 'C' 'C' 'C' 'C' 'C' 'C' 'C' 'C' 'C' 'C' 'M' 'M' 'M' 'M'\n",
            " 'C' 'C' 'C' 'C' 'C' 'C' 'C' 'C' 'C' 'C' 'M' 'M' 'M' 'M' 'M' 'M' 'M' 'M'\n",
            " 'M' 'X' 'X' 'X' 'X' 'X' 'X' 'X' 'X' 'X' 'N' 'N' 'N' 'N' 'N' 'N' 'B' 'N'\n",
            " 'N' 'N' 'N' 'N' 'N']\n",
            "\n",
            " Total true predictions\n",
            "43\n"
          ],
          "name": "stdout"
        }
      ]
    },
    {
      "cell_type": "markdown",
      "metadata": {
        "id": "D1t8L7RrC1ve"
      },
      "source": [
        "### Test on SVC model"
      ]
    },
    {
      "cell_type": "code",
      "metadata": {
        "colab": {
          "base_uri": "https://localhost:8080/"
        },
        "id": "1gIdw3bsC42n",
        "outputId": "e244afde-ccfd-46bc-9e04-6e610d0c4eb0"
      },
      "source": [
        "predictions_SVC = SV_classifier.predict(input_scaled)\r\n",
        "print(predictions_SVC)\r\n",
        "print(\"\\n Total true predictions using SVC\")\r\n",
        "listSVC = list(predictions_SVC)\r\n",
        "cnt = 0\r\n",
        "for i in range(len(list_flare)):\r\n",
        "    if listSVC[i] == list_flare[i]:\r\n",
        "        cnt = cnt + 1\r\n",
        "print(cnt)"
      ],
      "execution_count": null,
      "outputs": [
        {
          "output_type": "stream",
          "text": [
            "['N' 'N' 'C' 'C' 'C' 'C' 'N' 'C' 'N' 'N' 'N' 'C' 'C' 'C' 'C' 'C' 'C' 'C'\n",
            " 'N' 'N' 'N' 'N' 'C' 'C' 'C' 'C' 'C' 'N' 'C' 'C' 'C' 'C' 'C' 'C' 'C' 'M'\n",
            " 'M' 'X' 'X' 'X' 'X' 'C' 'C' 'X' 'X' 'X' 'N' 'N' 'N' 'N' 'N' 'N' 'N' 'N'\n",
            " 'N' 'N' 'N' 'N' 'N']\n",
            "\n",
            " Total true predictions using SVC\n",
            "29\n"
          ],
          "name": "stdout"
        }
      ]
    },
    {
      "cell_type": "markdown",
      "metadata": {
        "id": "ny7MQkNaC76I"
      },
      "source": [
        "### Test on Decision tree model"
      ]
    },
    {
      "cell_type": "code",
      "metadata": {
        "colab": {
          "base_uri": "https://localhost:8080/"
        },
        "id": "r5A90_zNC__n",
        "outputId": "857785cc-e3cf-4f9b-bcf8-123e0005e62f"
      },
      "source": [
        "predictions_DT = decision_tree_classifier.predict(input_scaled)\r\n",
        "print(predictions_DT)\r\n",
        "print(\"\\n Total true predictions\")\r\n",
        "listDT = list(predictions_DT)\r\n",
        "cnt = 0\r\n",
        "for i in range(len(list_flare)):\r\n",
        "    if listDT[i] == list_flare[i]:\r\n",
        "        cnt = cnt + 1\r\n",
        "print(cnt)"
      ],
      "execution_count": null,
      "outputs": [
        {
          "output_type": "stream",
          "text": [
            "['B' 'B' 'C' 'C' 'C' 'C' 'C' 'C' 'C' 'C' 'C' 'C' 'C' 'C' 'M' 'M' 'M' 'M'\n",
            " 'N' 'C' 'B' 'N' 'C' 'C' 'C' 'M' 'C' 'M' 'M' 'M' 'M' 'M' 'M' 'M' 'C' 'X'\n",
            " 'X' 'X' 'X' 'X' 'X' 'C' 'X' 'X' 'X' 'X' 'N' 'N' 'N' 'N' 'N' 'B' 'B' 'B'\n",
            " 'N' 'B' 'B' 'B' 'B']\n",
            "\n",
            " Total true predictions\n",
            "53\n"
          ],
          "name": "stdout"
        }
      ]
    },
    {
      "cell_type": "markdown",
      "metadata": {
        "id": "xRivIg-kCFYL"
      },
      "source": [
        "### Test on Random Forest model"
      ]
    },
    {
      "cell_type": "code",
      "metadata": {
        "id": "QLxIeOFZPHih",
        "colab": {
          "base_uri": "https://localhost:8080/"
        },
        "outputId": "5c635075-a036-4985-8ddb-327094f06296"
      },
      "source": [
        "predictions_RFC = random_forest_classifier.predict(input_scaled)\n",
        "print(predictions_RFC)\n",
        "print(\"\\n Total true predictions\")\n",
        "lstR = list(predictions_RFC)\n",
        "cnt = 0\n",
        "for i in range(len(list_flare)):\n",
        "    if lstR[i] == list_flare[i]:\n",
        "        cnt = cnt + 1\n",
        "print(cnt)"
      ],
      "execution_count": null,
      "outputs": [
        {
          "output_type": "stream",
          "text": [
            "['B' 'B' 'C' 'C' 'C' 'C' 'C' 'C' 'C' 'C' 'C' 'C' 'C' 'C' 'M' 'M' 'M' 'M'\n",
            " 'N' 'C' 'N' 'N' 'C' 'C' 'C' 'C' 'C' 'M' 'M' 'M' 'M' 'M' 'M' 'M' 'M' 'X'\n",
            " 'X' 'X' 'X' 'X' 'X' 'X' 'X' 'X' 'X' 'X' 'N' 'N' 'N' 'N' 'N' 'B' 'B' 'B'\n",
            " 'N' 'B' 'B' 'B' 'B']\n",
            "\n",
            " Total true predictions\n",
            "57\n"
          ],
          "name": "stdout"
        }
      ]
    },
    {
      "cell_type": "markdown",
      "metadata": {
        "id": "kRGrjRubDEDr"
      },
      "source": [
        "### Test on Adaptive Boosting"
      ]
    },
    {
      "cell_type": "code",
      "metadata": {
        "id": "J8_k3AbHv6OG",
        "colab": {
          "base_uri": "https://localhost:8080/"
        },
        "outputId": "c4d60ea7-950a-426a-8f42-836f634e7b21"
      },
      "source": [
        "predictions_AB = adaboost_classifier.predict(input_scaled)\r\n",
        "print(predictions_AB)\r\n",
        "print(\"\\n Total true predictions\")\r\n",
        "listAB = list(predictions_AB)\r\n",
        "cnt = 0\r\n",
        "for i in range(len(list_flare)):\r\n",
        "    if listAB[i] == list_flare[i]:\r\n",
        "        cnt = cnt + 1\r\n",
        "print(cnt)"
      ],
      "execution_count": null,
      "outputs": [
        {
          "output_type": "stream",
          "text": [
            "['N' 'N' 'C' 'C' 'N' 'N' 'B' 'C' 'C' 'N' 'C' 'C' 'C' 'C' 'C' 'C' 'C' 'C'\n",
            " 'N' 'N' 'N' 'N' 'C' 'C' 'C' 'C' 'C' 'N' 'C' 'N' 'C' 'C' 'C' 'C' 'C' 'C'\n",
            " 'C' 'C' 'C' 'C' 'C' 'N' 'C' 'C' 'C' 'C' 'N' 'N' 'N' 'N' 'N' 'N' 'N' 'N'\n",
            " 'N' 'N' 'N' 'N' 'N']\n",
            "\n",
            " Total true predictions\n",
            "22\n"
          ],
          "name": "stdout"
        }
      ]
    },
    {
      "cell_type": "markdown",
      "metadata": {
        "id": "ngoy39_1DKes"
      },
      "source": [
        "### Test on Gradient bossting"
      ]
    },
    {
      "cell_type": "code",
      "metadata": {
        "colab": {
          "base_uri": "https://localhost:8080/"
        },
        "id": "TSnQsUQGDPUP",
        "outputId": "73a661ef-533c-484b-8ad5-33d5ffaa961e"
      },
      "source": [
        "predictions_GB = gradient_boost_classifier.predict(input_scaled)\r\n",
        "print(predictions_GB)\r\n",
        "print(\"\\n Total true predictions\")\r\n",
        "listGB = list(predictions_GB)\r\n",
        "cnt = 0\r\n",
        "for i in range(len(list_flare)):\r\n",
        "    if listGB[i] == list_flare[i]:\r\n",
        "        cnt = cnt + 1\r\n",
        "print(cnt)"
      ],
      "execution_count": null,
      "outputs": [
        {
          "output_type": "stream",
          "text": [
            "['N' 'N' 'C' 'C' 'C' 'C' 'C' 'C' 'N' 'C' 'C' 'N' 'N' 'N' 'C' 'C' 'C' 'C'\n",
            " 'N' 'N' 'N' 'N' 'C' 'C' 'C' 'C' 'C' 'C' 'C' 'C' 'C' 'C' 'C' 'C' 'C' 'X'\n",
            " 'C' 'X' 'X' 'X' 'X' 'C' 'X' 'X' 'X' 'X' 'N' 'N' 'N' 'N' 'N' 'N' 'N' 'N'\n",
            " 'N' 'N' 'N' 'N' 'N']\n",
            "\n",
            " Total true predictions\n",
            "31\n"
          ],
          "name": "stdout"
        }
      ]
    },
    {
      "cell_type": "code",
      "metadata": {
        "id": "xwl9KsduFSjj"
      },
      "source": [
        ""
      ],
      "execution_count": null,
      "outputs": []
    }
  ]
}